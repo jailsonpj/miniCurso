{
 "cells": [
  {
   "cell_type": "markdown",
   "metadata": {},
   "source": [
    "# Flask\n",
    "\n",
    "É um micro framework de aplicações web escrito em **Python** e baseado na biblioteca WSGI Werkzeug e na biblioteca de Jinja2. **Flask** está disponível sob os termos da lincença BSD. **Flask** tem a flexibilidade da linguagem de progrmação **Python** e provê um modelo simples para desenvolvimento web"
   ]
  },
  {
   "cell_type": "markdown",
   "metadata": {},
   "source": [
    "![](flask_logo.png)"
   ]
  },
  {
   "cell_type": "markdown",
   "metadata": {},
   "source": [
    "## Como um aplicativo Flask funciona?\n",
    "\n",
    "O código nos permite executar um aplicativo web básico que podemos servir, como se fosse um site."
   ]
  },
  {
   "cell_type": "code",
   "execution_count": 1,
   "metadata": {},
   "outputs": [
    {
     "name": "stdout",
     "output_type": "stream",
     "text": [
      "Requirement already satisfied: Flask in /home/jailson/anaconda3/lib/python3.7/site-packages (1.1.1)\n",
      "Requirement already satisfied: itsdangerous>=0.24 in /home/jailson/anaconda3/lib/python3.7/site-packages (from Flask) (1.1.0)\n",
      "Requirement already satisfied: click>=5.1 in /home/jailson/anaconda3/lib/python3.7/site-packages (from Flask) (7.0)\n",
      "Requirement already satisfied: Jinja2>=2.10.1 in /home/jailson/anaconda3/lib/python3.7/site-packages (from Flask) (2.10.1)\n",
      "Requirement already satisfied: Werkzeug>=0.15 in /home/jailson/anaconda3/lib/python3.7/site-packages (from Flask) (0.15.4)\n",
      "Requirement already satisfied: MarkupSafe>=0.23 in /home/jailson/anaconda3/lib/python3.7/site-packages (from Jinja2>=2.10.1->Flask) (1.1.1)\n"
     ]
    }
   ],
   "source": [
    "!pip install Flask"
   ]
  },
  {
   "cell_type": "code",
   "execution_count": 2,
   "metadata": {},
   "outputs": [],
   "source": [
    "from flask import Flask"
   ]
  },
  {
   "cell_type": "code",
   "execution_count": null,
   "metadata": {},
   "outputs": [],
   "source": [
    "app = Flask(__name__)"
   ]
  },
  {
   "cell_type": "code",
   "execution_count": null,
   "metadata": {},
   "outputs": [],
   "source": [
    "@app.route(\"/\")\n",
    "def home():\n",
    "    return \"Hello, SIDIA!\"\n",
    "\n",
    "if __name__ == \"__main__\":\n",
    "    app.run(debug=True)"
   ]
  },
  {
   "cell_type": "markdown",
   "metadata": {},
   "source": [
    "**Observações:**\n",
    "    - Na trecho `from flask import Flask`, estamos importando o módulo Flask e criando um servidor Web Flask a partir do módulo Flask.\n",
    "    \n",
    "    - O `__name__` significa o arquivo atual aonde está sendo declarado a variável. Este arquivo atual representará o aplicativo web.\n",
    "    \n",
    "        - Estamos criando uma instância da classe Flask e chamando-a de aplicativo. Aqui estamos criando um novo aplicativo da web.\n",
    "    \n",
    "    - O `@app.route(\"/\")` representa a página padrão. Por exemplo, se eu for a um site como \"google.com/\" sem nada após a barra. Então essa será a página padrão do Google.\n",
    "    \n",
    "    - Quando o usuário acessa meu site a acessa a página padrão (nada após a barra), a função abaixo é ativada.\n",
    "    \n",
    "    - Quando a gente executa o escript python, o python atribui o nome \"__main__\" ao script quando executado.\n",
    "    \n",
    "    - Se importarmos outro script, a instrução if impedirá a execução de outros scripts. Quando executamos o main.py, ele muda seu nome para \"__main__\" e somente então a instrução `if` é ativada.\n",
    "    \n",
    "    - O `app.run()` será responsável por executar o aplicativo. Tendo `debug=True` permite que possíveis erros de Python apareçam na página da web. Isso nos ajudará a rastrear os erros."
   ]
  },
  {
   "cell_type": "markdown",
   "metadata": {},
   "source": [
    "## Ambientes HTML, CSS e virtuais\n",
    "\n",
    "- Primeiro, crie um novo arquivo HTML."
   ]
  },
  {
   "cell_type": "code",
   "execution_count": null,
   "metadata": {},
   "outputs": [],
   "source": [
    "<!DOCTYPE html>\n",
    "<html lang=\"en\" dir=\"ltr\">\n",
    "  <head>\n",
    "    <meta charset=\"utf-8\">\n",
    "    <title>Flask Tutorial</title>\n",
    "  </head>\n",
    "  <body>\n",
    "    <h1> My First Try Using Flask </h1>\n",
    "    <p> Flask is Fun </p>\n",
    "  </body>\n",
    "</html>"
   ]
  },
  {
   "cell_type": "markdown",
   "metadata": {},
   "source": [
    "### Ponto importante a lembrar \n",
    "\n",
    "O Flask framework procura arquivos HTML em uma pasta chamada templates. Você precisa criar uma pasta de templates e colocar todos os seus arquivos HTML nela.\n",
    "\n",
    "Agora precisamos alterar nosso main.py para que possamos visualizar o arquivo HTML que criamos."
   ]
  },
  {
   "cell_type": "code",
   "execution_count": null,
   "metadata": {},
   "outputs": [],
   "source": [
    "from flask import Flask, render_template      \n",
    "\n",
    "app = Flask(__name__)\n",
    "\n",
    "@app.route(\"/\")\n",
    "def home():\n",
    "    return render_template(\"home.html\")\n",
    "    \n",
    "@app.route(\"/salvador\")\n",
    "def salvador():\n",
    "    return \"Hello, Salvador\"\n",
    "    \n",
    "if __name__ == \"__main__\":\n",
    "    app.run(debug=True)\n",
    "\n",
    "    #We made two new changes"
   ]
  },
  {
   "cell_type": "markdown",
   "metadata": {},
   "source": [
    "Nós importamos o `render_template()`, método da estrutura do flask. `render_template()` procura um modelo (arquivo HTML) na pasta de templates. Em seguida, ele renderizará o modelo para o qual você solicita. Saiba mais sobre a função `render_templates()`.\n",
    "\n",
    "Mudamos o retorno para que agora ele retorne `render_template(“home.html”)`. Isso nos permitirá ver nosso arquivo HTML."
   ]
  },
  {
   "cell_type": "markdown",
   "metadata": {},
   "source": [
    "### Vamos adicionar mais páginas\n",
    "\n",
    "Vamos criar um `about.html` dentro da pasta de templates."
   ]
  },
  {
   "cell_type": "code",
   "execution_count": null,
   "metadata": {},
   "outputs": [],
   "source": [
    "<!DOCTYPE html>\n",
    "<html lang=\"en\" dir=\"ltr\">\n",
    "  <head>\n",
    "    <meta charset=\"utf-8\">\n",
    "    <title>About Flask</title>\n",
    "  </head>\n",
    "  <body>\n",
    "    <h1> About Flask </h1>\n",
    "    <p> Flask is a micro web framework written in Python.</p>\n",
    "    <p> Applications that use the Flask framework include Pinterest,\n",
    "      LinkedIn, and the community web page for Flask itself.</p>\n",
    "  </body>\n",
    "</html>"
   ]
  },
  {
   "cell_type": "markdown",
   "metadata": {},
   "source": [
    "Vamos fazer uma alteração semelhante ao que fizemos anteriormente em nosso `main.py`."
   ]
  },
  {
   "cell_type": "markdown",
   "metadata": {},
   "source": [
    "\n",
    "**Exercicio**\n",
    "\n",
    "- altere a rota para .\"/about\"\n",
    "\n",
    "- Altere a função para que ela seja agora def about():\n",
    "\n",
    "- Altere o retorno para que agora ele retorne `render_template(\"about.html\")`."
   ]
  },
  {
   "cell_type": "code",
   "execution_count": null,
   "metadata": {},
   "outputs": [],
   "source": []
  },
  {
   "cell_type": "code",
   "execution_count": null,
   "metadata": {},
   "outputs": [],
   "source": [
    "from flask import Flask, render_template\n",
    "\n",
    "app = Flask(__name__)\n",
    "\n",
    "@app.route(\"/\")\n",
    "def home():\n",
    "    return render_template(\"home.html\")\n",
    "    \n",
    "@app.route(\"/about)\n",
    "def about():\n",
    "    return render_template(\"about.html\")\n",
    "    \n",
    "if __name__ == \"__main__\":\n",
    "    app.run(debug=True)"
   ]
  },
  {
   "cell_type": "code",
   "execution_count": null,
   "metadata": {},
   "outputs": [],
   "source": []
  },
  {
   "cell_type": "markdown",
   "metadata": {},
   "source": [
    "## Vamos conectar as duas páginas com uma navegação\n",
    "\n",
    "Para conectar as duas páginas, podemos ter um menu de navegação na parte superior. Podemos usar o Flask para facilitar o processo de criação de um menu de navegação.\n",
    "\n",
    "Primeiro, vamos criar um `template.html`. Este `template.html` servirá como modelo pai. Nossos dois modelos filhos herdarão código dele."
   ]
  },
  {
   "cell_type": "code",
   "execution_count": null,
   "metadata": {},
   "outputs": [],
   "source": [
    "<!DOCTYPE html>\n",
    "<html lang=\"en\" dir=\"ltr\">\n",
    " <head>\n",
    "   <meta charset=\"utf-8\">\n",
    "   <title>Flask Parent Template</title>\n",
    "   <link rel=\"stylesheet\" href=\"{{ url_for('static',     filename='css/template.css') }}\">\n",
    " </head>\n",
    " <body>\n",
    "    <header>\n",
    "      <div class=\"container\">\n",
    "        <h1 class=\"logo\">First Web App</h1>\n",
    "        <strong><nav>\n",
    "          <ul class=\"menu\">\n",
    "            <li><a href=\"{{ url_for('home') }}\">Home</a></li>\n",
    "            <li><a href=\"{{ url_for('about') }}\">About</a></li>\n",
    "          </ul>\n",
    "        </nav></strong>\n",
    "      </div>\n",
    "    </header>\n",
    "    \n",
    "    {% block content %}\n",
    "    {% endblock %}\n",
    "    \n",
    " </body>\n",
    "</html>"
   ]
  },
  {
   "cell_type": "markdown",
   "metadata": {},
   "source": [
    "Usamos a função `url_for()` . Ele aceita o nome da função como argumento. No momento, demos o nome da função. Mais informações sobre a função `url_for()`. \n",
    "\n",
    "As duas linhas com colchetes serão substituídas pelo conteúdo de `home.html` e `about.html`. Isso dependerá da URL na qual o usuário está navegando.\n",
    "\n",
    "Essas alterações permitem que as páginas filho (`home.html` e `about.html`) se conectem ao pai (`template.html`). Isso nos permite não precisar copiar o código do menu de navegação em `about.html` e `home.html`."
   ]
  },
  {
   "cell_type": "markdown",
   "metadata": {},
   "source": [
    "Mudança about.html"
   ]
  },
  {
   "cell_type": "code",
   "execution_count": null,
   "metadata": {},
   "outputs": [],
   "source": [
    "<!DOCTYPE html>\n",
    "<html lang=\"en\" dir=\"ltr\">\n",
    "  <head>\n",
    "    <meta charset=\"utf-8\">\n",
    "    <title>About Flask</title>\n",
    "  </head>\n",
    "  <body>\n",
    "    {% extends \"template.html\" %}\n",
    "    {% block content %}\n",
    "    \n",
    "    <h1> About Flask </h1>\n",
    "    <p> Flask is a micro web framework written in Python.</p>\n",
    "    <p> Applications that use the Flask framework include Pinterest,\n",
    "      LinkedIn, and the community web page for Flask itself.</p>\n",
    "      \n",
    "    {% endblock %}\n",
    "  </body>\n",
    "</html>"
   ]
  },
  {
   "cell_type": "markdown",
   "metadata": {},
   "source": [
    "Mudança home.html"
   ]
  },
  {
   "cell_type": "code",
   "execution_count": null,
   "metadata": {},
   "outputs": [],
   "source": [
    "<!DOCTYPE html>\n",
    "<html lang=\"en\" dir=\"ltr\">\n",
    "  <head>\n",
    "    <meta charset=\"utf-8\">\n",
    "    <title>Flask Tutorial</title>\n",
    "  </head>\n",
    "  <body>\n",
    "    {% extends \"template.html\" %}\n",
    "    {% block content %}\n",
    "    \n",
    "    <h1> My First Try Using Flask </h1>\n",
    "    <p> Flask is Fun </p>\n",
    "    \n",
    "    {% endblock %}\n",
    "  </body>\n",
    "</html>"
   ]
  },
  {
   "cell_type": "markdown",
   "metadata": {},
   "source": [
    "Mudança Template.html"
   ]
  },
  {
   "cell_type": "code",
   "execution_count": null,
   "metadata": {},
   "outputs": [],
   "source": [
    "<!DOCTYPE html>\n",
    "<html lang=\"en\" dir=\"ltr\">\n",
    "  <head>\n",
    "    <meta charset=\"utf-8\">\n",
    "    <title>Flask Parent Template</title>\n",
    "    \n",
    "    <link rel=\"stylesheet\" href=\"{{ url_for('static',    filename='css/template.css') }}\">\n",
    "    \n",
    "</head>\n",
    "  <body>\n",
    "    <header>\n",
    "      <div class=\"container\">\n",
    "        <h1 class=\"logo\">First Web App</h1>\n",
    "        <strong><nav>\n",
    "          <ul class=\"menu\">\n",
    "            <li><a href=\"{{ url_for('home') }}\">Home</a></li>\n",
    "            <li><a href=\"{{ url_for('about') }}\">About</a></li>\n",
    "          </ul>\n",
    "        </nav></strong>\n",
    "      </div>\n",
    "    </header>\n",
    "    \n",
    "{% block content %}\n",
    "{% endblock %}\n",
    "\n",
    " </body>\n",
    "</html>"
   ]
  },
  {
   "cell_type": "code",
   "execution_count": null,
   "metadata": {},
   "outputs": [],
   "source": []
  }
 ],
 "metadata": {
  "kernelspec": {
   "display_name": "Python 3",
   "language": "python",
   "name": "python3"
  },
  "language_info": {
   "codemirror_mode": {
    "name": "ipython",
    "version": 3
   },
   "file_extension": ".py",
   "mimetype": "text/x-python",
   "name": "python",
   "nbconvert_exporter": "python",
   "pygments_lexer": "ipython3",
   "version": "3.7.3"
  }
 },
 "nbformat": 4,
 "nbformat_minor": 4
}
