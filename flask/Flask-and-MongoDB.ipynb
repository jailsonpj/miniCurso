{
 "cells": [
  {
   "cell_type": "markdown",
   "metadata": {},
   "source": [
    "# Introdução a Flask e MongoDB"
   ]
  },
  {
   "cell_type": "markdown",
   "metadata": {},
   "source": [
    "![](work.jpg)"
   ]
  },
  {
   "cell_type": "markdown",
   "metadata": {},
   "source": [
    "A estrutura do nosso objeto segue na seguinte forma:\n",
    "\n",
    "`app/\n",
    "\n",
    "    __init__.py\n",
    "    \n",
    "    database.py\n",
    "    \n",
    "    models/\n",
    "    \n",
    "        job.py\n",
    "        \n",
    "    main/\n",
    "    \n",
    "        __init__.py\n",
    "        \n",
    "        routes.py\n",
    "        \n",
    "    templates\n",
    "    \n",
    "        main.html\n",
    "        \n",
    "requirements.txt`"
   ]
  },
  {
   "cell_type": "markdown",
   "metadata": {},
   "source": [
    "## Flask Mongo Libraries\n",
    "\n",
    "Existem várias bibliotecas que fornecem auxiliares simples de integração e conviniência quando se trata de usar o `Flask` junto com o `MongoDB`.\n",
    "\n",
    "- Flask-PyMongo\n",
    "- Flask-MongoEngine\n",
    "- Flask-MongoAlquimia"
   ]
  },
  {
   "cell_type": "markdown",
   "metadata": {},
   "source": [
    "## Criando uma aplicação Flask\n",
    "\n",
    "Vamos começar adicionando o código para criar o aplicativo.\n",
    "\n",
    "No arquivo `app/__init__.py`"
   ]
  },
  {
   "cell_type": "code",
   "execution_count": null,
   "metadata": {},
   "outputs": [],
   "source": [
    "from flask import Flask\n",
    "from app.database import DB\n",
    "\n",
    "\n",
    "def create_app(config):\n",
    "    app = Flask(__name__)\n",
    "    DB.init()\n",
    "    register_blueprints(app)\n",
    "    return app\n",
    "\n",
    "def register_blueprints(app):\n",
    "    from app.main import bp as main_bp\n",
    "    app.register_blueprints(main_bp)"
   ]
  },
  {
   "cell_type": "markdown",
   "metadata": {},
   "source": [
    "Uma função bastante padrão para criar um aplicativo `Flask`. Primeiro, criamos uma instância do `Flask`, depois inicializamos o banco de dados (escreveremos o código para ele na próxima seção) e, finalmente, registramos os blueprints, o que permite aos usuários acessar nossas rotas de aplicativos.\n",
    "\n",
    "Se você não conhece os projetos, recomendo ler sobre eles [aqui](https://flask.palletsprojects.com/en/1.0.x/blueprints/) . Pessoalmente, acho o conceito de projeto muito útil, especialmente quando você cria aplicativos grandes."
   ]
  },
  {
   "cell_type": "markdown",
   "metadata": {},
   "source": [
    "## Adicionando o módulo de banco de dados\n",
    "\n",
    "Para conectar-se ao nosso banco de dados e executar operações nele, gostaríamos de um modelo genérico que possamos usar em qualquer lugar do código do aplicativo.\n",
    "\n",
    "No arquivo `app/database.py`"
   ]
  },
  {
   "cell_type": "code",
   "execution_count": null,
   "metadata": {},
   "outputs": [],
   "source": [
    "import pymongo"
   ]
  },
  {
   "cell_type": "code",
   "execution_count": null,
   "metadata": {},
   "outputs": [],
   "source": [
    "class DB(object):\n",
    "    \n",
    "    URI = 'mongodb://localhost:27017'\n",
    "    \n",
    "    @staticmethod\n",
    "    def init():\n",
    "        client = pymongo.MongoClient(DB.URI)\n",
    "        DB.DATABASE = client['sidia_app']\n",
    "        \n",
    "    @staticmethod\n",
    "    def insert(collection, data):\n",
    "        DB.DATABASE[collection].insert(data)\n",
    "        \n",
    "    @staticmethod\n",
    "    def find_one(collection, query):\n",
    "        return DB.DATABASE[collection].find_one(query)"
   ]
  },
  {
   "cell_type": "markdown",
   "metadata": {},
   "source": [
    "Temos duas funções básicas que na classe `DB` - `insert()` e `find_one()`. Usaremos essas funções para procurar documentos em nossas coleções e inserir novos documentos.\n",
    "\n",
    "**Nota**: se o seu banco de dados estiver usando uma porta diferente, altere o URI de acordo."
   ]
  },
  {
   "cell_type": "markdown",
   "metadata": {},
   "source": [
    "## Adicionando um modelo\n",
    "\n",
    "Agora vamos criar um modelo que representa nosso trabalho. Usaremos esse modelo para todas as operções relacionadas à coleta de documentos no banco de dados.\n",
    "\n",
    "No `app/models/job.py`"
   ]
  },
  {
   "cell_type": "code",
   "execution_count": null,
   "metadata": {},
   "outputs": [],
   "source": [
    "import datetime\n",
    "\n",
    "from app.database import DB\n",
    "\n",
    "\n",
    "class Job(object):\n",
    "    def __init__(self, name):\n",
    "        self.name = name\n",
    "        self.created_at = datetime.datetime.utcnow()\n",
    "        \n",
    "    def insert(self):\n",
    "        if not DB.find_one(\"jobs\",{'name':self.name}):\n",
    "            DB.insert(collection='jobs', data=self.json())\n",
    "            \n",
    "    def json(self):\n",
    "        return {\n",
    "            'name': self.name,\n",
    "            'created_at': self.created_at\n",
    "        }"
   ]
  },
  {
   "cell_type": "markdown",
   "metadata": {},
   "source": [
    "A primeira coisa a observar é que importamos a classe `DB` que criamos na seção anterior. Essa é a nossa conexão com o banco de dados e a usaremos para inserir e procurar \"jobs\".\n",
    "\n",
    "Em seguida, nossos \"jobs\" terão apenas dois campos nos documentos:\n",
    "\n",
    "- nome: auto-explicativo\n",
    "- created_at: objeto datetime que representa a data em que o trabalho foi adicionado ao banco de dados\n",
    "\n",
    "O método `insert` é o método responsável pela inserção do objeto de `Job` no banco de dados, usando o método 'json' que retorna uma representação JSON do nosso objeto. Observe que ele só adicionará o objeto se ainda não houver esse trabalho / documento na coleção de trabalhos."
   ]
  },
  {
   "cell_type": "markdown",
   "metadata": {},
   "source": [
    "## Adicionando Trabalhos\n",
    "\n",
    "Agora que temos a capacidade de adicionar alguns trabalhos, vamos modificar nossa função de criação de aplicativos para adicioná-los assim que o usuário iniciar o aplicativo\n",
    "\n",
    "No `app/__init__.py`"
   ]
  },
  {
   "cell_type": "code",
   "execution_count": null,
   "metadata": {},
   "outputs": [],
   "source": [
    "from flask import Flask\n",
    " \n",
    "from app.database import DB\n",
    "from app.models.job import Job\n",
    " \n",
    "def create_app(config):\n",
    "    app = Flask(__name__)\n",
    "    DB.init()\n",
    "    register_blueprints(app)\n",
    "    for job_name in ['job1', 'job2', 'job3']:\n",
    "        new_job = Job(name=job_name)\n",
    "        new_job.insert()\n",
    "    return app\n",
    " \n",
    "def register_blueprints(app):\n",
    "    from app.main import bp as main_bp\n",
    "    app.register_blueprint(main_bp)"
   ]
  },
  {
   "cell_type": "markdown",
   "metadata": {},
   "source": [
    "Como você pode ver, estamos adicionando três trabalhos ao nosso banco de dados, usando os nomes na lista. O atributo `created_at` tem um valor padrão, portanto, não precisamos transmiti-lo."
   ]
  },
  {
   "cell_type": "markdown",
   "metadata": {},
   "source": [
    "## Rota principal\n",
    "\n",
    "Lembre-se de que registramos um projeto chamado 'main' em `app/__init__.py`? Bem, então é hora de defini-lo.\n",
    "\n",
    "Vamos começar adicionando `app/main/__init__.py`\n"
   ]
  },
  {
   "cell_type": "code",
   "execution_count": null,
   "metadata": {},
   "outputs": [],
   "source": [
    "from flask import Blueprint\n",
    "            \n",
    "bp = Blueprint('main', __name__)\n",
    "            \n",
    "from app.main import routes  # noqa"
   ]
  },
  {
   "cell_type": "markdown",
   "metadata": {},
   "source": [
    "Como você pode ver, definiremos as rotas em seu próprio arquivo em `app/main/routes.py`"
   ]
  },
  {
   "cell_type": "code",
   "execution_count": null,
   "metadata": {},
   "outputs": [],
   "source": [
    "from flask import render_template\n",
    "         \n",
    "from app.main import bp  # noqa\n",
    "from app.models.job import Job \n",
    "         \n",
    "         \n",
    "@bp.route('/')\n",
    "def index():\n",
    "    \"\"\"Main page route.\"\"\"\n",
    "    button_text = \"Add Job\"\n",
    "    return render_template('main.html', button_text=button_text)\n",
    "         \n",
    "         \n",
    "@bp.route('/add_job')\n",
    "def add_job():\n",
    "    \"\"\"Adds job4 to the database.\"\"\"\n",
    "    new_job = Job(name='job4')\n",
    "    new_job.insert()                                                                                                                                                         \n",
    "    return ('', 204)"
   ]
  },
  {
   "cell_type": "markdown",
   "metadata": {},
   "source": [
    "Definimos duas rotas. O primeiro ('/') é para usuários que acessam nosso aplicativo. A única coisa que essa rota faz é renderizar o modelo `main.html` que definiremos na próxima seção. Toda vez que um usuário acessa nosso aplicativo dessa maneira, http://x.x.x.x:5000/ o `main.html` é renderizado e exibido ao usuário em seu navegador.\n",
    "\n",
    "A segunda rota `('/add_job')` será usada para adicionar um trabalho chamado 'job4' quando um usuário clicar no botão que definiremos no modelo `main.html`."
   ]
  },
  {
   "cell_type": "markdown",
   "metadata": {},
   "source": [
    "## Modelo HTML principal\n",
    "\n",
    "Nossa página principal será muito simples e incluirá apenas um botão simples com o texto \"Adicionar trabalho\"."
   ]
  },
  {
   "cell_type": "code",
   "execution_count": null,
   "metadata": {},
   "outputs": [],
   "source": [
    "<a id=link&gt;<button type=\"button\" class=\"btn btn-info\"&gt;{{ button_text }}</button&gt;</a&gt;                                                                                                   \n",
    "  \n",
    "<script src=\"//ajax.googleapis.com/ajax/libs/jquery/1.9.1/jquery.min.js\"&gt;</script&gt;\n",
    "<script type=text/javascript&gt;\n",
    "        $(function() {\n",
    "          $('a#link').bind('click', function() {\n",
    "            $.getJSON('/add_job',\n",
    "                function(data) {\n",
    "            });\n",
    "            return false;\n",
    "          });\n",
    "        });\n",
    "</script&gt;"
   ]
  },
  {
   "cell_type": "markdown",
   "metadata": {},
   "source": [
    "Este modelo será renderizado no momento em que o usuário acessar nosso aplicativo.\n",
    "\n",
    "O código jquery javascript é usado sempre que o usuário clica no botão para adicionar um trabalho. Ele usará a segunda rota que definimos para adicionar o trabalho chamado 'job4'.\n",
    "\n",
    "Uma pergunta para você responder: clicar várias vezes no botão \"Adicionar trabalho\" adicionará vários documentos de \"job4\"?"
   ]
  },
  {
   "cell_type": "code",
   "execution_count": null,
   "metadata": {},
   "outputs": [],
   "source": []
  },
  {
   "cell_type": "markdown",
   "metadata": {},
   "source": [
    "## Executando aplicativo\n",
    "\n",
    "pip install -r requirements.txt\n",
    "\n",
    "flask run"
   ]
  },
  {
   "cell_type": "code",
   "execution_count": null,
   "metadata": {},
   "outputs": [],
   "source": []
  },
  {
   "cell_type": "code",
   "execution_count": null,
   "metadata": {},
   "outputs": [],
   "source": []
  },
  {
   "cell_type": "code",
   "execution_count": null,
   "metadata": {},
   "outputs": [],
   "source": []
  },
  {
   "cell_type": "code",
   "execution_count": null,
   "metadata": {},
   "outputs": [],
   "source": []
  },
  {
   "cell_type": "code",
   "execution_count": null,
   "metadata": {},
   "outputs": [],
   "source": []
  }
 ],
 "metadata": {
  "kernelspec": {
   "display_name": "Python 3",
   "language": "python",
   "name": "python3"
  },
  "language_info": {
   "codemirror_mode": {
    "name": "ipython",
    "version": 3
   },
   "file_extension": ".py",
   "mimetype": "text/x-python",
   "name": "python",
   "nbconvert_exporter": "python",
   "pygments_lexer": "ipython3",
   "version": "3.7.3"
  }
 },
 "nbformat": 4,
 "nbformat_minor": 4
}
