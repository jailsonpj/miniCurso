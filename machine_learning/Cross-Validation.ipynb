{
 "cells": [
  {
   "cell_type": "code",
   "execution_count": 5,
   "metadata": {},
   "outputs": [],
   "source": [
    "from sklearn.model_selection import cross_val_score\n",
    "from sklearn.datasets import load_iris\n",
    "from sklearn.linear_model import LogisticRegression\n",
    "\n",
    "import warnings\n",
    "warnings.filterwarnings('ignore')"
   ]
  },
  {
   "cell_type": "code",
   "execution_count": 2,
   "metadata": {},
   "outputs": [],
   "source": [
    "iris = load_iris()"
   ]
  },
  {
   "cell_type": "code",
   "execution_count": 3,
   "metadata": {},
   "outputs": [],
   "source": [
    "logreg = LogisticRegression()"
   ]
  },
  {
   "cell_type": "code",
   "execution_count": 7,
   "metadata": {},
   "outputs": [],
   "source": [
    "# por dafault o k = 3"
   ]
  },
  {
   "cell_type": "code",
   "execution_count": 6,
   "metadata": {},
   "outputs": [
    {
     "name": "stdout",
     "output_type": "stream",
     "text": [
      "Cross-Validation: [ 0.96078431  0.92156863  0.95833333]\n"
     ]
    }
   ],
   "source": [
    "scores = cross_val_score(logreg, iris.data, iris.target)\n",
    "print(\"Cross-Validation: {}\".format(scores))"
   ]
  },
  {
   "cell_type": "code",
   "execution_count": 8,
   "metadata": {},
   "outputs": [
    {
     "name": "stdout",
     "output_type": "stream",
     "text": [
      "Average cross-validation score: 0.95\n"
     ]
    }
   ],
   "source": [
    "print(\"Average cross-validation score: {:.2f}\".format(scores.mean()))"
   ]
  },
  {
   "cell_type": "markdown",
   "metadata": {},
   "source": [
    "## Cross Validation Stratified"
   ]
  },
  {
   "cell_type": "code",
   "execution_count": 9,
   "metadata": {},
   "outputs": [],
   "source": [
    "import mglearn"
   ]
  },
  {
   "cell_type": "code",
   "execution_count": 10,
   "metadata": {},
   "outputs": [
    {
     "name": "stdout",
     "output_type": "stream",
     "text": [
      "Iris labels:\n",
      "[0 0 0 0 0 0 0 0 0 0 0 0 0 0 0 0 0 0 0 0 0 0 0 0 0 0 0 0 0 0 0 0 0 0 0 0 0\n",
      " 0 0 0 0 0 0 0 0 0 0 0 0 0 1 1 1 1 1 1 1 1 1 1 1 1 1 1 1 1 1 1 1 1 1 1 1 1\n",
      " 1 1 1 1 1 1 1 1 1 1 1 1 1 1 1 1 1 1 1 1 1 1 1 1 1 1 2 2 2 2 2 2 2 2 2 2 2\n",
      " 2 2 2 2 2 2 2 2 2 2 2 2 2 2 2 2 2 2 2 2 2 2 2 2 2 2 2 2 2 2 2 2 2 2 2 2 2\n",
      " 2 2]\n"
     ]
    }
   ],
   "source": [
    "print(\"Iris labels:\\n{}\".format(iris.target))"
   ]
  },
  {
   "cell_type": "code",
   "execution_count": 16,
   "metadata": {},
   "outputs": [],
   "source": [
    "from sklearn.model_selection import StratifiedKFold"
   ]
  },
  {
   "cell_type": "code",
   "execution_count": 17,
   "metadata": {},
   "outputs": [],
   "source": [
    "skf = StratifiedKFold(n_splits=5, shuffle=True, random_state=0)"
   ]
  },
  {
   "cell_type": "code",
   "execution_count": 18,
   "metadata": {},
   "outputs": [
    {
     "data": {
      "text/plain": [
       "5"
      ]
     },
     "execution_count": 18,
     "metadata": {},
     "output_type": "execute_result"
    }
   ],
   "source": [
    "skf.get_n_splits(iris.data, iris.target)"
   ]
  },
  {
   "cell_type": "code",
   "execution_count": 19,
   "metadata": {},
   "outputs": [
    {
     "name": "stdout",
     "output_type": "stream",
     "text": [
      "TRAIN: [  0   1   3   5   6   7   8   9  12  13  14  15  16  17  18  19  20  21\n",
      "  23  24  25  26  29  30  32  33  34  35  36  37  39  40  42  43  44  45\n",
      "  46  47  48  49  50  51  53  55  56  57  58  59  62  63  64  65  66  67\n",
      "  68  69  70  71  73  74  75  76  79  80  82  83  84  85  86  87  89  90\n",
      "  92  93  94  95  96  97  98  99 100 101 103 105 106 107 108 109 112 113\n",
      " 114 115 116 117 118 119 120 121 123 124 125 126 129 130 132 133 134 135\n",
      " 136 137 139 140 142 143 144 145 146 147 148 149] TEST: [  2   4  10  11  22  27  28  31  38  41  52  54  60  61  72  77  78  81\n",
      "  88  91 102 104 110 111 122 127 128 131 138 141]\n",
      "TRAIN: [  0   1   2   3   4   5   6   8   9  10  11  12  13  15  16  17  19  20\n",
      "  21  22  23  24  25  27  28  30  31  32  36  37  38  39  40  41  42  43\n",
      "  44  46  47  49  50  51  52  53  54  55  56  58  59  60  61  62  63  65\n",
      "  66  67  69  70  71  72  73  74  75  77  78  80  81  82  86  87  88  89\n",
      "  90  91  92  93  94  96  97  99 100 101 102 103 104 105 106 108 109 110\n",
      " 111 112 113 115 116 117 119 120 121 122 123 124 125 127 128 130 131 132\n",
      " 136 137 138 139 140 141 142 143 144 146 147 149] TEST: [  7  14  18  26  29  33  34  35  45  48  57  64  68  76  79  83  84  85\n",
      "  95  98 107 114 118 126 129 133 134 135 145 148]\n",
      "TRAIN: [  0   1   2   3   4   5   6   7   9  10  11  12  14  17  18  19  21  22\n",
      "  23  24  26  27  28  29  31  33  34  35  36  37  38  39  40  41  44  45\n",
      "  46  47  48  49  50  51  52  53  54  55  56  57  59  60  61  62  64  67\n",
      "  68  69  71  72  73  74  76  77  78  79  81  83  84  85  86  87  88  89\n",
      "  90  91  94  95  96  97  98  99 100 101 102 103 104 105 106 107 109 110\n",
      " 111 112 114 117 118 119 121 122 123 124 126 127 128 129 131 133 134 135\n",
      " 136 137 138 139 140 141 144 145 146 147 148 149] TEST: [  8  13  15  16  20  25  30  32  42  43  58  63  65  66  70  75  80  82\n",
      "  92  93 108 113 115 116 120 125 130 132 142 143]\n",
      "TRAIN: [  0   2   3   4   7   8   9  10  11  13  14  15  16  18  19  20  21  22\n",
      "  25  26  27  28  29  30  31  32  33  34  35  36  38  39  41  42  43  44\n",
      "  45  46  47  48  50  52  53  54  57  58  59  60  61  63  64  65  66  68\n",
      "  69  70  71  72  75  76  77  78  79  80  81  82  83  84  85  86  88  89\n",
      "  91  92  93  94  95  96  97  98 100 102 103 104 107 108 109 110 111 113\n",
      " 114 115 116 118 119 120 121 122 125 126 127 128 129 130 131 132 133 134\n",
      " 135 136 138 139 141 142 143 144 145 146 147 148] TEST: [  1   5   6  12  17  23  24  37  40  49  51  55  56  62  67  73  74  87\n",
      "  90  99 101 105 106 112 117 123 124 137 140 149]\n",
      "TRAIN: [  1   2   4   5   6   7   8  10  11  12  13  14  15  16  17  18  20  22\n",
      "  23  24  25  26  27  28  29  30  31  32  33  34  35  37  38  40  41  42\n",
      "  43  45  48  49  51  52  54  55  56  57  58  60  61  62  63  64  65  66\n",
      "  67  68  70  72  73  74  75  76  77  78  79  80  81  82  83  84  85  87\n",
      "  88  90  91  92  93  95  98  99 101 102 104 105 106 107 108 110 111 112\n",
      " 113 114 115 116 117 118 120 122 123 124 125 126 127 128 129 130 131 132\n",
      " 133 134 135 137 138 140 141 142 143 145 148 149] TEST: [  0   3   9  19  21  36  39  44  46  47  50  53  59  69  71  86  89  94\n",
      "  96  97 100 103 109 119 121 136 139 144 146 147]\n"
     ]
    }
   ],
   "source": [
    "for train_index, test_index in skf.split(iris.data, iris.target):\n",
    "    print(\"TRAIN:\", train_index, \"TEST:\", test_index)"
   ]
  },
  {
   "cell_type": "code",
   "execution_count": 20,
   "metadata": {},
   "outputs": [
    {
     "name": "stdout",
     "output_type": "stream",
     "text": [
      "Cross-validation scores:\n",
      "[ 1.          0.83333333  0.93333333  1.          1.        ]\n"
     ]
    }
   ],
   "source": [
    "print(\"Cross-validation scores:\\n{}\".format(cross_val_score(logreg, iris.data, iris.target,cv=skf)))"
   ]
  },
  {
   "cell_type": "code",
   "execution_count": 22,
   "metadata": {},
   "outputs": [],
   "source": [
    "scores = cross_val_score(logreg, iris.data, iris.target,cv=skf)"
   ]
  },
  {
   "cell_type": "code",
   "execution_count": 23,
   "metadata": {},
   "outputs": [
    {
     "name": "stdout",
     "output_type": "stream",
     "text": [
      "Average cross-validation score: 0.95\n"
     ]
    }
   ],
   "source": [
    "print(\"Average cross-validation score: {:.2f}\".format(scores.mean()))"
   ]
  },
  {
   "cell_type": "markdown",
   "metadata": {},
   "source": [
    "## Leave-one-out cross-validation"
   ]
  },
  {
   "cell_type": "code",
   "execution_count": 24,
   "metadata": {},
   "outputs": [],
   "source": [
    "from sklearn.model_selection import LeaveOneOut"
   ]
  },
  {
   "cell_type": "code",
   "execution_count": 25,
   "metadata": {},
   "outputs": [],
   "source": [
    "loo = LeaveOneOut()"
   ]
  },
  {
   "cell_type": "code",
   "execution_count": 26,
   "metadata": {},
   "outputs": [],
   "source": [
    "scores = cross_val_score(logreg,iris.data, iris.target,cv=loo)"
   ]
  },
  {
   "cell_type": "code",
   "execution_count": 27,
   "metadata": {},
   "outputs": [
    {
     "name": "stdout",
     "output_type": "stream",
     "text": [
      "Number of cv iterations:  150\n"
     ]
    }
   ],
   "source": [
    "print(\"Number of cv iterations: \", len(scores))"
   ]
  },
  {
   "cell_type": "code",
   "execution_count": 28,
   "metadata": {},
   "outputs": [
    {
     "name": "stdout",
     "output_type": "stream",
     "text": [
      "Mean accuracy: 0.95\n"
     ]
    }
   ],
   "source": [
    "print(\"Mean accuracy: {:.2f}\".format(scores.mean()))"
   ]
  },
  {
   "cell_type": "markdown",
   "metadata": {},
   "source": [
    "## Shuffle-split cross-validation"
   ]
  },
  {
   "cell_type": "code",
   "execution_count": 30,
   "metadata": {},
   "outputs": [],
   "source": [
    "from sklearn.model_selection import ShuffleSplit"
   ]
  },
  {
   "cell_type": "code",
   "execution_count": 33,
   "metadata": {},
   "outputs": [],
   "source": [
    "shuffle_split = ShuffleSplit(test_size=.5, train_size=.5, n_splits=10)"
   ]
  },
  {
   "cell_type": "code",
   "execution_count": 34,
   "metadata": {},
   "outputs": [],
   "source": [
    "scores = cross_val_score(logreg, iris.data, iris.target, cv=shuffle_split)"
   ]
  },
  {
   "cell_type": "code",
   "execution_count": 35,
   "metadata": {},
   "outputs": [
    {
     "name": "stdout",
     "output_type": "stream",
     "text": [
      "Cross-validation scores:\n",
      "[ 0.86666667  0.97333333  0.90666667  0.90666667  0.96        0.92\n",
      "  0.97333333  0.86666667  0.93333333  0.97333333]\n"
     ]
    }
   ],
   "source": [
    "print(\"Cross-validation scores:\\n{}\".format(scores))"
   ]
  }
 ],
 "metadata": {
  "kernelspec": {
   "display_name": "Python 3",
   "language": "python",
   "name": "python3"
  },
  "language_info": {
   "codemirror_mode": {
    "name": "ipython",
    "version": 3
   },
   "file_extension": ".py",
   "mimetype": "text/x-python",
   "name": "python",
   "nbconvert_exporter": "python",
   "pygments_lexer": "ipython3",
   "version": "3.7.2"
  }
 },
 "nbformat": 4,
 "nbformat_minor": 2
}
