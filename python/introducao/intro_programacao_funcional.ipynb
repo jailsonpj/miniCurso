{
 "cells": [
  {
   "cell_type": "markdown",
   "metadata": {},
   "source": [
    "# Programação de Estilo Funcional\n",
    "\n",
    "É uma abordagem de programação que se refere a criar computações que são constituídas a partir de combinar funções que não modificam seus argumentos e que  não se referem a ou modificam o estado do programa e que também fornecem seus resultados como valores retornados.\n",
    "\n",
    "Três conceitos que são fortemente associados com a programação funcional são: *mapeamento*, *filtragem* e *redução*. O **mapeamento** envolve tomar uma função e um iterável, e produzir um novo iterável (ou uma lista), em que cada item é o resultado da chamada da função no item correspondente no iterável original. \n",
    "\n",
    "Exemplo:"
   ]
  },
  {
   "cell_type": "code",
   "execution_count": 14,
   "metadata": {},
   "outputs": [
    {
     "name": "stdout",
     "output_type": "stream",
     "text": [
      "1\n",
      "4\n",
      "9\n",
      "16\n"
     ]
    }
   ],
   "source": [
    "y = []\n",
    "\n",
    "# uma forma \n",
    "for i in map(lambda x: x**2, [1,2,3,4]):\n",
    "    print(i)\n",
    "    y.append(i)"
   ]
  },
  {
   "cell_type": "code",
   "execution_count": 15,
   "metadata": {},
   "outputs": [
    {
     "data": {
      "text/plain": [
       "[1, 4, 9, 16]"
      ]
     },
     "execution_count": 15,
     "metadata": {},
     "output_type": "execute_result"
    }
   ],
   "source": [
    "y"
   ]
  },
  {
   "cell_type": "code",
   "execution_count": null,
   "metadata": {},
   "outputs": [],
   "source": [
    "# outra forma \n",
    "list(map(lambda x: x ** 2, [1,2,3,4]))"
   ]
  },
  {
   "cell_type": "markdown",
   "metadata": {},
   "source": [
    "A função `map()` toma uma função e um iterável como sendo seus argumentos, para que, eficientemente, ele retorne im iterador ao invés de uma lista.\n",
    "\n",
    "No seguinte exemplo, forçamos uma lista a ser criada, de forma a deixar o resultado claro:"
   ]
  },
  {
   "cell_type": "code",
   "execution_count": 16,
   "metadata": {},
   "outputs": [
    {
     "data": {
      "text/plain": [
       "[1, 4, 9, 16]"
      ]
     },
     "execution_count": 16,
     "metadata": {},
     "output_type": "execute_result"
    }
   ],
   "source": [
    "[ x ** 2 for x in [1,2,3,4]]"
   ]
  },
  {
   "cell_type": "markdown",
   "metadata": {},
   "source": [
    "**Filtragem** envolve tomar uma função e um iterável e produzir um novo iterável, em que cada item vem do iterável original - considerando que a função retorna `True` quando chamada no item. A função nativa `filter()` suporta o seguinte: "
   ]
  },
  {
   "cell_type": "code",
   "execution_count": 19,
   "metadata": {},
   "outputs": [
    {
     "name": "stdout",
     "output_type": "stream",
     "text": [
      "1\n",
      "3\n"
     ]
    }
   ],
   "source": [
    "y = []\n",
    "\n",
    "for i in filter(lambda x: x > 0, [1,-2,3,-4]):\n",
    "    y.append(i)\n",
    "    print(i)"
   ]
  },
  {
   "cell_type": "code",
   "execution_count": 20,
   "metadata": {},
   "outputs": [
    {
     "data": {
      "text/plain": [
       "[1, 3]"
      ]
     },
     "execution_count": 20,
     "metadata": {},
     "output_type": "execute_result"
    }
   ],
   "source": [
    "y"
   ]
  },
  {
   "cell_type": "markdown",
   "metadata": {},
   "source": [
    "A função `filter()`sempre poderá ser substituída por uma expressão geradora ou por uma compreensão de lista:"
   ]
  },
  {
   "cell_type": "code",
   "execution_count": 21,
   "metadata": {},
   "outputs": [
    {
     "data": {
      "text/plain": [
       "[1, 3]"
      ]
     },
     "execution_count": 21,
     "metadata": {},
     "output_type": "execute_result"
    }
   ],
   "source": [
    "[x for x in [1, -2, 3, -4] if x > 0]"
   ]
  },
  {
   "cell_type": "markdown",
   "metadata": {},
   "source": [
    "**Reduução** envolve o ato de tomar uma função e um iterável e produzir um único valor resltante. A forma pela qual isso funciona se deve ao fato de que a função é chamada nos primeiros dois valores do iterável, depois no resultado computado, e, então no terceiro valor; depois no resultado computado e no quarto valor, e assim por diante, até que todos os valores tenham sido utilizados. A função do módulo `functools.reduce()` do módulo `functools` suporta isso."
   ]
  },
  {
   "cell_type": "code",
   "execution_count": 24,
   "metadata": {},
   "outputs": [],
   "source": [
    "import functools\n",
    "import operator"
   ]
  },
  {
   "cell_type": "code",
   "execution_count": 23,
   "metadata": {},
   "outputs": [
    {
     "data": {
      "text/plain": [
       "24"
      ]
     },
     "execution_count": 23,
     "metadata": {},
     "output_type": "execute_result"
    }
   ],
   "source": [
    "functools.reduce(lambda x, y: x * y, [1,2,3,4])"
   ]
  },
  {
   "cell_type": "code",
   "execution_count": 25,
   "metadata": {},
   "outputs": [
    {
     "data": {
      "text/plain": [
       "24"
      ]
     },
     "execution_count": 25,
     "metadata": {},
     "output_type": "execute_result"
    }
   ],
   "source": [
    "functools.reduce(operator.mul, [1,2,3,4])"
   ]
  },
  {
   "cell_type": "markdown",
   "metadata": {},
   "source": [
    "O módulo `operator` possui funções para todos os operadores do Python, especialmente para fazer com que a programação funcional fiqeu mais fácil."
   ]
  },
  {
   "cell_type": "code",
   "execution_count": null,
   "metadata": {},
   "outputs": [],
   "source": []
  },
  {
   "cell_type": "code",
   "execution_count": null,
   "metadata": {},
   "outputs": [],
   "source": []
  },
  {
   "cell_type": "code",
   "execution_count": null,
   "metadata": {},
   "outputs": [],
   "source": []
  },
  {
   "cell_type": "code",
   "execution_count": null,
   "metadata": {},
   "outputs": [],
   "source": []
  }
 ],
 "metadata": {
  "kernelspec": {
   "display_name": "Python 3",
   "language": "python",
   "name": "python3"
  },
  "language_info": {
   "codemirror_mode": {
    "name": "ipython",
    "version": 3
   },
   "file_extension": ".py",
   "mimetype": "text/x-python",
   "name": "python",
   "nbconvert_exporter": "python",
   "pygments_lexer": "ipython3",
   "version": "3.7.3"
  }
 },
 "nbformat": 4,
 "nbformat_minor": 4
}
