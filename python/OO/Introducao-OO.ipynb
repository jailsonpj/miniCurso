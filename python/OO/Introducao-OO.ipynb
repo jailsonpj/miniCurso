{
 "cells": [
  {
   "cell_type": "markdown",
   "metadata": {},
   "source": [
    "# Introdução a Orientação a Objetos"
   ]
  },
  {
   "cell_type": "markdown",
   "metadata": {},
   "source": [
    "## Definindo classes, atributos e métodos\n",
    "\n",
    "Uma classe é um \"modelo\" para diversos valores, que são chamados *objetos*. Definir classes é bem simples, e nem precisamos fazer algo em sua definição. Por exemplo, a classe `Person` abaixo, que usaremos para representar pessoas, é definida sem nenhum comando significante dentro dela, exceto o comando `pass`, que informa que nada será feito além de definir a classe."
   ]
  },
  {
   "cell_type": "code",
   "execution_count": 1,
   "metadata": {},
   "outputs": [],
   "source": [
    "class Person(object):\n",
    "    \"\"\"Classe Pessoa\"\"\"\n",
    "    pass"
   ]
  },
  {
   "cell_type": "markdown",
   "metadata": {},
   "source": [
    "A definição de classe não faz nada além de dizer que existe a classe *Person*. Para executarmos operações nessa classe, precisamos definir funções que atuem sobre ela. Por exemplo, funções que armazenem o nome da pessoa:"
   ]
  },
  {
   "cell_type": "code",
   "execution_count": 2,
   "metadata": {},
   "outputs": [
    {
     "name": "stdout",
     "output_type": "stream",
     "text": [
      "Juliana\n"
     ]
    }
   ],
   "source": [
    "def set_name(person,name):\n",
    "    if len(name) >= 2:\n",
    "        person.name = name\n",
    "        \n",
    "woman = Person()\n",
    "set_name(woman, 'Juliana')\n",
    "\n",
    "print(woman.name)"
   ]
  },
  {
   "cell_type": "markdown",
   "metadata": {},
   "source": [
    "Acima, definimos a função `set_name` que armazena o nome da pessoa num objeto da classe `Person`.\n",
    "\n",
    "Por uma questão de praticidade, é tradição declarar as funções que operam sobre uma classe dentro da própria classe. Uma vez que a função foi declarada dentro da classe, toda vez que a função for chamada o nome da classe deve vir antes; isto é, chamar uma função declarada dentro de uma classe é como chamá-la de um módulo.\n",
    "\n",
    "No código abaixo, declaramos a função dentro da classe, ao invés de ficar do lado de fora. A vantagem de fazer isso é que o código que altera a classe fica mais próximo da definição, ficando mais separado e legível. Depois, é só chamar o nome da classe seguido do nome da função que ele executa. É como se a função fosse um valor da classe."
   ]
  },
  {
   "cell_type": "code",
   "execution_count": 5,
   "metadata": {},
   "outputs": [
    {
     "name": "stdout",
     "output_type": "stream",
     "text": [
      "Juliana\n"
     ]
    }
   ],
   "source": [
    "class Person(object):\n",
    "    def set_name(person, name):\n",
    "        if len(name) >= 2:\n",
    "            person.name = name\n",
    "            \n",
    "woman = Person()\n",
    "\n",
    "Person.set_name(woman, 'Juliana')\n",
    "\n",
    "print(woman.name)"
   ]
  },
  {
   "cell_type": "markdown",
   "metadata": {},
   "source": [
    "Entretanto, embora essa notação possa ser muito útil, ficar digitando o nome da classe pode ser bem entediante. Certamente é redundante, pois todo objeto sabe a qual classe pertence. Desse modo, tiveram a idéia de, ao invés de preceder o nome da função com o nome da classe, precedê-lo com o objeto que é o primeiro parâmetro. Obviamente, não faz sentido usar o nome do objeto antes do nome da função e depois como parâmetro, como **woman.set_name(woman, 'Juliana')** . Se o nome do objeto já está lá antes do nome da função, ele deve ser retirado da lista de parâmetros, como no código do objeto antes da função (abaixo).\n",
    "\n",
    "Essas \"funções dentro de classes\" são chamadas de métodos. Para chamar métodos, tanto faz chamá-los como em **Classe.metodo(objeto, parametros)** quanto chamá-los como em **objeto.metodo(parametros)**\n",
    "\n",
    "As formas são equivalentes, com apenas uma ressalva: objeto deve ser um objeto da classe Classe. Por sinal, mesmo a primeira notação **Classe.metodo(objeto, parametros)** resultaria em erro se objeto não fosse um objeto da classe Classe."
   ]
  },
  {
   "cell_type": "code",
   "execution_count": 7,
   "metadata": {},
   "outputs": [
    {
     "name": "stdout",
     "output_type": "stream",
     "text": [
      "Juliana\n"
     ]
    }
   ],
   "source": [
    "class Person(object):\n",
    "    def set_name(person, name):\n",
    "        if len(name) >= 2:\n",
    "            person.name = name\n",
    "            \n",
    "woman = Person()\n",
    "woman.set_name('Juliana')\n",
    "\n",
    "print(woman.name)"
   ]
  },
  {
   "cell_type": "markdown",
   "metadata": {},
   "source": [
    "#### O nome \"self\"\n",
    "\n",
    "No método **Person.set_name** acima, o nome do primeiro parâmetro do método era person. Entretanto, é tradição chamar esse primeiro parâmetro de **self**. Por quê?\n",
    "\n",
    "Bem, não há nenhuma obrigatoriedade de se fazer assim -- tanto é que em nosso método usamos outro nome para o parâmetro. Costuma-se chamar o primeiro parâmetro de self porque a maioria dos programadores Python já reconhece esse nome como o nome do objeto a ser invocado no método; ademais, esse é o padrão especificado pela [PEP-8](https://www.python.org/dev/peps/pep-0008/). Por isso mesmo, via de regra é melhor utilizar self como o nome do primeiro parâmetro dos métodos."
   ]
  },
  {
   "cell_type": "code",
   "execution_count": 3,
   "metadata": {},
   "outputs": [],
   "source": [
    "class Person(object):\n",
    "    def set_name(self, name):\n",
    "        if len(name) >= 2:\n",
    "            self.name = name\n",
    "            \n",
    "woman = Person()"
   ]
  },
  {
   "cell_type": "code",
   "execution_count": 4,
   "metadata": {},
   "outputs": [],
   "source": [
    "woman.set_name('Juliana')"
   ]
  },
  {
   "cell_type": "code",
   "execution_count": 7,
   "metadata": {},
   "outputs": [
    {
     "name": "stdout",
     "output_type": "stream",
     "text": [
      "Juliana\n"
     ]
    }
   ],
   "source": [
    "print(woman.name)"
   ]
  },
  {
   "cell_type": "markdown",
   "metadata": {},
   "source": [
    "#### Exercício:"
   ]
  },
  {
   "cell_type": "code",
   "execution_count": 9,
   "metadata": {},
   "outputs": [],
   "source": [
    "class ContaBancaria(object):\n",
    "        def __init__(self):\n",
    "            self.agencia = None\n",
    "            self.numero = None\n",
    "            self.nome_cliente = None\n",
    "            self.saldo = 0.0"
   ]
  },
  {
   "cell_type": "markdown",
   "metadata": {},
   "source": [
    "O método `__init__()` (abreviação da palavra em inglês para \"inicialização\") é um método especial, invocado quando um objeto é instanciado."
   ]
  },
  {
   "cell_type": "code",
   "execution_count": 10,
   "metadata": {},
   "outputs": [
    {
     "name": "stdout",
     "output_type": "stream",
     "text": [
      "Cliente Maria Jose\n",
      "Agencia 02333 e conta 1234-5\n",
      "Saldo 1500.0\n"
     ]
    }
   ],
   "source": [
    "conta = ContaBancaria()\n",
    "    \n",
    "conta.agencia = '02333'\n",
    "conta.numero = '1234-5'\n",
    "conta.nome_cliente = 'Maria Jose'\n",
    "conta.saldo = 1500.0\n",
    "\n",
    "print('Cliente ' + conta.nome_cliente)\n",
    "print('Agencia %s e conta %s' % (conta.agencia, conta.numero)) \n",
    "print('Saldo ' + str(conta.saldo))"
   ]
  },
  {
   "cell_type": "markdown",
   "metadata": {},
   "source": [
    "#### Exercicio:"
   ]
  },
  {
   "cell_type": "code",
   "execution_count": 12,
   "metadata": {},
   "outputs": [],
   "source": [
    "class ContaBancaria(object):\n",
    "        def __init__(self):\n",
    "            self.agencia = None\n",
    "            self.numero = None\n",
    "            self.nome_cliente = None\n",
    "            self.saldo = 0.0\n",
    "        \n",
    "        def depositar(self, valor):\n",
    "            self.saldo += valor\n",
    "\n",
    "        def sacar(self, valor):\n",
    "            if valor <= self.saldo:\n",
    "                self.saldo -= valor\n",
    "                return True\n",
    "            return False"
   ]
  },
  {
   "cell_type": "code",
   "execution_count": 13,
   "metadata": {},
   "outputs": [
    {
     "name": "stdout",
     "output_type": "stream",
     "text": [
      "Cliente Maria Jose\n",
      "Agencia 0233 e Conta 1234-5\n",
      "Saldo 1500.0\n",
      "Saldo insuficiente :-(\n"
     ]
    }
   ],
   "source": [
    "conta = ContaBancaria()\n",
    "\n",
    "conta.agencia = '0233'\n",
    "conta.numero = '1234-5'\n",
    "conta.nome_cliente = 'Maria Jose'\n",
    "conta.saldo = 1500.0\n",
    "\n",
    "print('Cliente ' + conta.nome_cliente)\n",
    "print('Agencia %s e Conta %s' % (conta.agencia,conta.numero))\n",
    "print('Saldo '+ str(conta.saldo))\n",
    "\n",
    "\n",
    "# Teste dos métodos depositar() e sacar()\n",
    "conta.depositar(500.0)\n",
    "\n",
    "if conta.sacar(2500.0):\n",
    "    print('Saque realizado com sucesso :-)')\n",
    "else:\n",
    "    print('Saldo insuficiente :-(')\n"
   ]
  },
  {
   "cell_type": "markdown",
   "metadata": {},
   "source": [
    "### Trabalhando com referências"
   ]
  },
  {
   "cell_type": "markdown",
   "metadata": {},
   "source": [
    "![](dum-dee.png)"
   ]
  },
  {
   "cell_type": "code",
   "execution_count": 14,
   "metadata": {},
   "outputs": [],
   "source": [
    "dum = ('1861-10-23',['poesia','fingir-luta'])\n",
    "dee = ('1861-10-23',['poesia','fingir-luta'])"
   ]
  },
  {
   "cell_type": "code",
   "execution_count": 15,
   "metadata": {},
   "outputs": [
    {
     "data": {
      "text/plain": [
       "True"
      ]
     },
     "execution_count": 15,
     "metadata": {},
     "output_type": "execute_result"
    }
   ],
   "source": [
    "dum == dee"
   ]
  },
  {
   "cell_type": "code",
   "execution_count": 16,
   "metadata": {},
   "outputs": [
    {
     "data": {
      "text/plain": [
       "False"
      ]
     },
     "execution_count": 16,
     "metadata": {},
     "output_type": "execute_result"
    }
   ],
   "source": [
    "dum is dee"
   ]
  },
  {
   "cell_type": "code",
   "execution_count": 17,
   "metadata": {},
   "outputs": [
    {
     "data": {
      "text/plain": [
       "(139676225060616, 139676225053000)"
      ]
     },
     "execution_count": 17,
     "metadata": {},
     "output_type": "execute_result"
    }
   ],
   "source": [
    "id(dum), id(dee)"
   ]
  },
  {
   "cell_type": "markdown",
   "metadata": {},
   "source": [
    "É claro que `dum` e `dee` referem-se a objetos que são iguais, mas que não são o mesmo objeto. Eles têm identidades diferentes."
   ]
  },
  {
   "cell_type": "code",
   "execution_count": 18,
   "metadata": {},
   "outputs": [
    {
     "data": {
      "text/plain": [
       "('1861-10-23', ['poesia', 'fingir-luta'])"
      ]
     },
     "execution_count": 18,
     "metadata": {},
     "output_type": "execute_result"
    }
   ],
   "source": [
    "t_doom = dum\n",
    "t_doom"
   ]
  },
  {
   "cell_type": "code",
   "execution_count": 19,
   "metadata": {},
   "outputs": [
    {
     "data": {
      "text/plain": [
       "True"
      ]
     },
     "execution_count": 19,
     "metadata": {},
     "output_type": "execute_result"
    }
   ],
   "source": [
    "t_doom == dum"
   ]
  },
  {
   "cell_type": "code",
   "execution_count": 20,
   "metadata": {},
   "outputs": [
    {
     "data": {
      "text/plain": [
       "True"
      ]
     },
     "execution_count": 20,
     "metadata": {},
     "output_type": "execute_result"
    }
   ],
   "source": [
    "t_doom is dum"
   ]
  },
  {
   "cell_type": "code",
   "execution_count": 21,
   "metadata": {},
   "outputs": [
    {
     "data": {
      "text/plain": [
       "(139676225060616, 139676225060616)"
      ]
     },
     "execution_count": 21,
     "metadata": {},
     "output_type": "execute_result"
    }
   ],
   "source": [
    "id(t_doom), id(dum)"
   ]
  },
  {
   "cell_type": "markdown",
   "metadata": {},
   "source": [
    "![](dum-t_doom-dee.png)"
   ]
  },
  {
   "cell_type": "code",
   "execution_count": 22,
   "metadata": {},
   "outputs": [],
   "source": [
    "skills = t_doom[1]\n",
    "skills.append('rap')"
   ]
  },
  {
   "cell_type": "code",
   "execution_count": 23,
   "metadata": {},
   "outputs": [
    {
     "data": {
      "text/plain": [
       "('1861-10-23', ['poesia', 'fingir-luta', 'rap'])"
      ]
     },
     "execution_count": 23,
     "metadata": {},
     "output_type": "execute_result"
    }
   ],
   "source": [
    "t_doom"
   ]
  },
  {
   "cell_type": "code",
   "execution_count": 24,
   "metadata": {},
   "outputs": [
    {
     "data": {
      "text/plain": [
       "('1861-10-23', ['poesia', 'fingir-luta', 'rap'])"
      ]
     },
     "execution_count": 24,
     "metadata": {},
     "output_type": "execute_result"
    }
   ],
   "source": [
    "dum"
   ]
  },
  {
   "cell_type": "markdown",
   "metadata": {},
   "source": [
    "![](dum-skills-references.png)"
   ]
  },
  {
   "cell_type": "markdown",
   "metadata": {},
   "source": [
    "O que é imutável é o conteúdo físico de uma tupla, que armazena apenas referências a objetos. O valor da lista referenciado por `dum[1]` mudou, mas a identidade da lista referenciada pela tupla permanece a mesma. Uma tupla não tem meios de prevenir mudanças nos valores de seus itens, que são objetos independentes e podem ser encontrados através de referências fora da tupla, como o nome `skills` que nós usamos anteriormente. Listas e outros objetos imutáveis dentro de tuplas podem ser alterados, mas suas identidades serão sempre as mesmas."
   ]
  },
  {
   "cell_type": "code",
   "execution_count": 18,
   "metadata": {},
   "outputs": [
    {
     "data": {
      "text/plain": [
       "False"
      ]
     },
     "execution_count": 18,
     "metadata": {},
     "output_type": "execute_result"
    }
   ],
   "source": [
    "dum == dee"
   ]
  },
  {
   "cell_type": "code",
   "execution_count": 27,
   "metadata": {},
   "outputs": [],
   "source": [
    "teste = t_doom[0]\n",
    "teste = False"
   ]
  },
  {
   "cell_type": "code",
   "execution_count": 29,
   "metadata": {},
   "outputs": [
    {
     "data": {
      "text/plain": [
       "('1861-10-23', ['poesia', 'fingir-luta', 'rap'])"
      ]
     },
     "execution_count": 29,
     "metadata": {},
     "output_type": "execute_result"
    }
   ],
   "source": [
    "dum"
   ]
  },
  {
   "cell_type": "markdown",
   "metadata": {},
   "source": [
    "#### Exercicio"
   ]
  },
  {
   "cell_type": "code",
   "execution_count": 32,
   "metadata": {},
   "outputs": [],
   "source": [
    "class ContaBancaria(object):\n",
    "    def __init__(self):\n",
    "        self.agencia = None\n",
    "        self.numero = None\n",
    "        self.cliente = None\n",
    "        self.saldo = 0.0\n",
    "\n",
    "    def depositar(self, valor):\n",
    "        self.saldo += valor\n",
    "\n",
    "    def sacar(self, valor):\n",
    "        if valor <= self.saldo:\n",
    "            self.saldo -= valor\n",
    "            return True\n",
    "        return False\n",
    "\n",
    "    def transferir(self, valor, destino):\n",
    "        if self.sacar(valor):\n",
    "            destino.depositar(valor)\n",
    "            return True\n",
    "        return False"
   ]
  },
  {
   "cell_type": "code",
   "execution_count": 33,
   "metadata": {},
   "outputs": [
    {
     "name": "stdout",
     "output_type": "stream",
     "text": [
      "\n",
      " Saldo Inicial Origem:  1200.0\n",
      "Saldo Inicial Destino 0.0\n",
      "Transferência ===========\n",
      "Saldo Origem:  700.0\n",
      "Saldo destino:  500.0\n"
     ]
    }
   ],
   "source": [
    "# Teste do método de transferência\n",
    "origem = ContaBancaria()\n",
    "origem.depositar(1200.0)\n",
    "\n",
    "destino = ContaBancaria()\n",
    "\n",
    "print('\\n Saldo Inicial Origem: ', origem.saldo)\n",
    "print('Saldo Inicial Destino', destino.saldo)\n",
    "print('Transferência ===========')\n",
    "origem.transferir(500.0, destino)\n",
    "print('Saldo Origem: ', origem.saldo)\n",
    "print('Saldo destino: ', destino.saldo)"
   ]
  },
  {
   "cell_type": "code",
   "execution_count": 19,
   "metadata": {},
   "outputs": [],
   "source": []
  },
  {
   "cell_type": "markdown",
   "metadata": {},
   "source": [
    "#### Exercício"
   ]
  },
  {
   "cell_type": "code",
   "execution_count": 34,
   "metadata": {},
   "outputs": [],
   "source": [
    "class Cliente(object):\n",
    "    def __init__(self):\n",
    "        self.nome = None\n",
    "        self.cpf = None\n",
    "        self.rg = None\n",
    "        self.email = None"
   ]
  },
  {
   "cell_type": "code",
   "execution_count": 35,
   "metadata": {},
   "outputs": [
    {
     "name": "stdout",
     "output_type": "stream",
     "text": [
      "Saldo:  1000.0\n",
      "CPF:  123456\n",
      "Nome:  Luiza\n",
      "E-mail:  luiza@gmail.com\n"
     ]
    }
   ],
   "source": [
    "#Teste Cliente\n",
    "cliente = Cliente()\n",
    "cliente.nome = 'Luiza'\n",
    "cliente.cpf = '123456'\n",
    "cliente.email = 'luiza@gmail.com'\n",
    "\n",
    "conta = ContaBancaria()\n",
    "conta.saldo = 1000.0\n",
    "conta.cliente = cliente\n",
    "\n",
    "print('Saldo: ', conta.saldo)\n",
    "print('CPF: ', conta.cliente.cpf)\n",
    "print('Nome: ', conta.cliente.nome)\n",
    "print('E-mail: ', conta.cliente.email)"
   ]
  },
  {
   "cell_type": "code",
   "execution_count": null,
   "metadata": {},
   "outputs": [],
   "source": []
  },
  {
   "cell_type": "markdown",
   "metadata": {},
   "source": [
    "### Encapsulamento\n",
    "\n",
    "- É a proteção dos atibutos ou métodos de uma classe\n",
    "- Em python existem somente o *public* e o *private*, e são definidos no próprio nome do atributo ou método\n",
    "- O python não utiliza o termo **private**, que é um modificador de acesso e também chamado de modificador de visibilidade\n",
    "- No python inserimos dois *underscores('__')* ao atributo para adicionar esta caracteristica"
   ]
  },
  {
   "cell_type": "code",
   "execution_count": 36,
   "metadata": {},
   "outputs": [],
   "source": [
    "class Person(object):\n",
    "    def __init__(self, idade):\n",
    "        self.__idade = idade"
   ]
  },
  {
   "cell_type": "code",
   "execution_count": 37,
   "metadata": {},
   "outputs": [
    {
     "ename": "AttributeError",
     "evalue": "'Person' object has no attribute 'idade'",
     "output_type": "error",
     "traceback": [
      "\u001b[0;31m---------------------------------------------------------------------------\u001b[0m",
      "\u001b[0;31mAttributeError\u001b[0m                            Traceback (most recent call last)",
      "\u001b[0;32m<ipython-input-37-f6ad4baecf92>\u001b[0m in \u001b[0;36m<module>\u001b[0;34m\u001b[0m\n\u001b[1;32m      1\u001b[0m \u001b[0mperson\u001b[0m \u001b[0;34m=\u001b[0m \u001b[0mPerson\u001b[0m\u001b[0;34m(\u001b[0m\u001b[0;36m20\u001b[0m\u001b[0;34m)\u001b[0m\u001b[0;34m\u001b[0m\u001b[0;34m\u001b[0m\u001b[0m\n\u001b[0;32m----> 2\u001b[0;31m \u001b[0mperson\u001b[0m\u001b[0;34m.\u001b[0m\u001b[0midade\u001b[0m\u001b[0;34m\u001b[0m\u001b[0;34m\u001b[0m\u001b[0m\n\u001b[0m",
      "\u001b[0;31mAttributeError\u001b[0m: 'Person' object has no attribute 'idade'"
     ]
    }
   ],
   "source": [
    "person = Person(20)\n",
    "person.idade"
   ]
  },
  {
   "cell_type": "markdown",
   "metadata": {},
   "source": [
    "#### Decorators"
   ]
  },
  {
   "cell_type": "markdown",
   "metadata": {},
   "source": [
    "Um decorador, ou decorator é um padrão de projeto de software que permite adicionar um comportamento a um objeto já existente em tempo de execução, ou seja, agrega dinamicamente responsabilidades adicionais a um objeto. Esta solução traz uma flexibilidade maior, em que podemos adicionar ou remover responsabilidades sem que seja necessário editar o código-fonte.\n",
    "\n",
    "Um decorador é um objeto invocável, uma função que aceita outra função como parâmetro (a função decorada). O decorador pode realizar algum processamento com a função decorada e devolvê-la ou substituí-la por outra função. O property é um decorador que possui métodos extras como um getter e um setter e ao ser aplicado a um objeto"
   ]
  },
  {
   "cell_type": "code",
   "execution_count": 38,
   "metadata": {},
   "outputs": [
    {
     "name": "stdout",
     "output_type": "stream",
     "text": [
      "Maria\n"
     ]
    }
   ],
   "source": [
    "class Person(object):\n",
    "    def __init__(self):\n",
    "        self.__name = None\n",
    "        \n",
    "    @property\n",
    "    def nome(self):\n",
    "        return self.__name\n",
    "    \n",
    "    @nome.setter\n",
    "    def nome(self,name):\n",
    "        self.__name = name\n",
    "        \n",
    "pessoa = Person()\n",
    "pessoa.nome = 'Maria'\n",
    "print(pessoa.nome)"
   ]
  },
  {
   "cell_type": "code",
   "execution_count": 40,
   "metadata": {},
   "outputs": [
    {
     "name": "stdout",
     "output_type": "stream",
     "text": [
      "Jailson\n"
     ]
    }
   ],
   "source": [
    "p = Person()\n",
    "p.nome = 'Jailson'\n",
    "print(p.nome)"
   ]
  },
  {
   "cell_type": "code",
   "execution_count": 41,
   "metadata": {},
   "outputs": [
    {
     "ename": "AttributeError",
     "evalue": "'Person' object has no attribute '__name'",
     "output_type": "error",
     "traceback": [
      "\u001b[0;31m---------------------------------------------------------------------------\u001b[0m",
      "\u001b[0;31mAttributeError\u001b[0m                            Traceback (most recent call last)",
      "\u001b[0;32m<ipython-input-41-dec4fc2c63b8>\u001b[0m in \u001b[0;36m<module>\u001b[0;34m\u001b[0m\n\u001b[0;32m----> 1\u001b[0;31m \u001b[0mprint\u001b[0m\u001b[0;34m(\u001b[0m\u001b[0mp\u001b[0m\u001b[0;34m.\u001b[0m\u001b[0m__name\u001b[0m\u001b[0;34m)\u001b[0m\u001b[0;34m\u001b[0m\u001b[0;34m\u001b[0m\u001b[0m\n\u001b[0m",
      "\u001b[0;31mAttributeError\u001b[0m: 'Person' object has no attribute '__name'"
     ]
    }
   ],
   "source": [
    "print(p.__name)"
   ]
  },
  {
   "cell_type": "markdown",
   "metadata": {},
   "source": [
    "#### Exercício"
   ]
  },
  {
   "cell_type": "code",
   "execution_count": 42,
   "metadata": {},
   "outputs": [],
   "source": [
    "class ContaBancaria(object):\n",
    "    #__total_contas = 0\n",
    "    def __init__(self):\n",
    "        self.agencia = None\n",
    "        self.numero = None\n",
    "        self.cliente = None\n",
    "        self.__saldo = 0.0\n",
    "        #self.total_contas += 1\n",
    "\n",
    "    @property\n",
    "    def saldo(self):\n",
    "        return self.__saldo\n",
    "\n",
    "    @saldo.setter\n",
    "    def saldo(self, novo_saldo):\n",
    "        self.__saldo = novo_saldo\n",
    "\n",
    "    def depositar(self, valor):\n",
    "        self.__saldo += valor\n",
    "\n",
    "    def sacar(self, valor):\n",
    "        if self.__saldo >= valor:\n",
    "            self.__saldo -= valor\n",
    "            return True\n",
    "        return False"
   ]
  },
  {
   "cell_type": "code",
   "execution_count": 44,
   "metadata": {},
   "outputs": [
    {
     "name": "stdout",
     "output_type": "stream",
     "text": [
      "Saldo inicial:  0.0\n",
      "Saldo apos deposito:  1000.0\n",
      "Saldo apos saque:  800.0\n"
     ]
    }
   ],
   "source": [
    "conta = ContaBancaria()\n",
    "\n",
    "print('Saldo inicial: ', conta.saldo)\n",
    "\n",
    "conta.depositar(1000)\n",
    "print('Saldo apos deposito: ', conta.saldo)\n",
    "\n",
    "conta.sacar(200.0)\n",
    "print('Saldo apos saque: ', conta.saldo)"
   ]
  },
  {
   "cell_type": "code",
   "execution_count": null,
   "metadata": {},
   "outputs": [],
   "source": []
  },
  {
   "cell_type": "markdown",
   "metadata": {},
   "source": [
    "### Atributos de classe e instância"
   ]
  },
  {
   "cell_type": "code",
   "execution_count": 44,
   "metadata": {},
   "outputs": [],
   "source": [
    "class ContaBancaria(object):\n",
    "    __total_contas = 0\n",
    "    def __init__(self):\n",
    "        self.agencia = None\n",
    "        self.numero = None\n",
    "        self.cliente = None\n",
    "        self.__saldo = 0.0\n",
    "        #self.total_contas += 1\n",
    "        ContaBancaria.__total_contas += 1\n",
    "\n",
    "    @property\n",
    "    def saldo(self):\n",
    "        return self.__saldo\n",
    "\n",
    "    @saldo.setter\n",
    "    def saldo(self, novo_saldo):\n",
    "        self.__saldo = novo_saldo\n",
    "\n",
    "    def depositar(self, valor):\n",
    "        self.__saldo += valor\n",
    "\n",
    "    def sacar(self, valor):\n",
    "        if self.__saldo >= valor:\n",
    "            self.__saldo -= valor\n",
    "            return True\n",
    "        return False\n",
    "    \n",
    "    @staticmethod\n",
    "    def get_total_contas():\n",
    "        return ContaBancaria.__total_contas"
   ]
  },
  {
   "cell_type": "code",
   "execution_count": 45,
   "metadata": {},
   "outputs": [],
   "source": [
    "conta = ContaBancaria()"
   ]
  },
  {
   "cell_type": "code",
   "execution_count": 46,
   "metadata": {},
   "outputs": [
    {
     "data": {
      "text/plain": [
       "1"
      ]
     },
     "execution_count": 46,
     "metadata": {},
     "output_type": "execute_result"
    }
   ],
   "source": [
    "conta.get_total_contas()"
   ]
  },
  {
   "cell_type": "code",
   "execution_count": 47,
   "metadata": {},
   "outputs": [],
   "source": [
    "conta2 = ContaBancaria()"
   ]
  },
  {
   "cell_type": "code",
   "execution_count": null,
   "metadata": {},
   "outputs": [],
   "source": []
  },
  {
   "cell_type": "code",
   "execution_count": null,
   "metadata": {},
   "outputs": [],
   "source": []
  }
 ],
 "metadata": {
  "kernelspec": {
   "display_name": "Python 3",
   "language": "python",
   "name": "python3"
  },
  "language_info": {
   "codemirror_mode": {
    "name": "ipython",
    "version": 3
   },
   "file_extension": ".py",
   "mimetype": "text/x-python",
   "name": "python",
   "nbconvert_exporter": "python",
   "pygments_lexer": "ipython3",
   "version": "3.7.3"
  }
 },
 "nbformat": 4,
 "nbformat_minor": 2
}
