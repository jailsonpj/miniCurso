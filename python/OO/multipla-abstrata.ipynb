{
 "cells": [
  {
   "cell_type": "markdown",
   "metadata": {},
   "source": [
    "# Herança Múltipla e Classe Abstrata\n",
    "\n",
    "Curso SIDIA - Outubro de 2019\n",
    "\n",
    "*Orientação a Objetos com Python*"
   ]
  },
  {
   "cell_type": "markdown",
   "metadata": {},
   "source": [
    "### Herança Múltipla \n",
    "\n",
    "É a capacidade de herdar características de mais de uma classe:\n",
    "\n",
    "![](classes_1.png)\n",
    "\n",
    "Embora a herança múltipla seja um recurso presente em diversas linguagens de programação, o seu uso pode facilmente se tornar um problema. Motivo? O temido [*Diamond of Death*](https://en.wikipedia.org/wiki/Multiple_inheritance#The_diamond_problem)\n",
    "\n",
    "Imagine a seguinte situação:"
   ]
  },
  {
   "cell_type": "code",
   "execution_count": 1,
   "metadata": {},
   "outputs": [
    {
     "name": "stdout",
     "output_type": "stream",
     "text": [
      "Hi!\n"
     ]
    }
   ],
   "source": [
    "class English(object):\n",
    "    def greet(self):\n",
    "        print('Hi!')\n",
    "        \n",
    "class Portuguese(object):\n",
    "    def greet(self):\n",
    "        print('Oi!')\n",
    "        \n",
    "class Bilingual(English, Portuguese):\n",
    "    pass\n",
    "\n",
    "if __name__ == '__main__':\n",
    "    Bilingual().greet()"
   ]
  },
  {
   "cell_type": "markdown",
   "metadata": {},
   "source": [
    "No Python, em caso de herança múltipla, a prioridade é definida da **esquerda para a direita**, ou seja:\n",
    "\n",
    "`class Bilingual(English, Portuguese):`"
   ]
  },
  {
   "cell_type": "markdown",
   "metadata": {},
   "source": [
    "`Bilingual` dará preferência ao método `greet` de `English`. O resultado da execução será:\n",
    "\n",
    "`Hi!`"
   ]
  },
  {
   "cell_type": "markdown",
   "metadata": {},
   "source": [
    "Por convenção, progamadores Python implementam herança múltipla de forma bem granular, usando **Mixins**! O código do [Django](https://github.com/django/django) tem muitos bons exemplos."
   ]
  },
  {
   "cell_type": "markdown",
   "metadata": {},
   "source": [
    "### Classes Abstratas\n",
    "\n",
    "Em orientação a Objetos, existem as *Classes Abstratas*, que são classes que servem de modelo para outras classes. Elas não podem ser instanciadas mas podem conter atributos e métodos. Seus métodos e propriedades podem ser abstratos (sem implementação).\n",
    "\n",
    "Em Python o uso das classes abstratas são para definir bases comuns e formalizar interfaces."
   ]
  },
  {
   "cell_type": "code",
   "execution_count": 13,
   "metadata": {},
   "outputs": [],
   "source": [
    "from abc import ABCMeta, abstractmethod\n",
    "from datetime import date"
   ]
  },
  {
   "cell_type": "code",
   "execution_count": 14,
   "metadata": {},
   "outputs": [],
   "source": [
    "class Pessoa(ABC):\n",
    "    @abstractmethod\n",
    "    def calcularIdade(self, dataNascimento):\n",
    "        idade = date.today().year - dataNascimento.year\n",
    "        return str(idade) + \" anos\"\n",
    "\n",
    "class PessoaFisica(Pessoa):\n",
    "    def __init__(self):\n",
    "        pass\n",
    "\n",
    "    def calcularIdade(self, dataNascimento):\n",
    "        return super().calcularIdade(dataNascimento)"
   ]
  },
  {
   "cell_type": "code",
   "execution_count": 15,
   "metadata": {},
   "outputs": [
    {
     "name": "stdout",
     "output_type": "stream",
     "text": [
      "32 anos\n"
     ]
    }
   ],
   "source": [
    "p = PessoaFisica()\n",
    "print(p.calcularIdade(date(1987,12,14)))"
   ]
  },
  {
   "cell_type": "markdown",
   "metadata": {},
   "source": [
    "# Arquivos, Exceções, Métodos de classe, args e kwargs"
   ]
  },
  {
   "cell_type": "markdown",
   "metadata": {},
   "source": [
    "### Trabalhando com arquivos\n",
    "\n",
    "Em ambientes corporativos, é comum a necessidade de envio de dados entre serviços. Uma estratégia comum, é criação de arquivos CSV.\n",
    "\n",
    "Vamos começar, lendo um arquivo com dados de GIBIS."
   ]
  },
  {
   "cell_type": "code",
   "execution_count": 17,
   "metadata": {},
   "outputs": [
    {
     "name": "stdout",
     "output_type": "stream",
     "text": [
      "4/5/2015 13:34,Apples,73\n",
      "\n",
      "4/5/2015 3:41,cherries,85\n",
      "\n",
      "4/6/2015 12:46,Pears,14\n",
      "\n",
      "4/8/2015 8:59,Oranges,52\n",
      "\n",
      "4/10/2015 2:07,Apples,152\n",
      "\n",
      "4/10/2015 18:10,Bananas,23\n",
      "\n",
      "4/10/2015 2:40,strawberries,98\n",
      "\n"
     ]
    }
   ],
   "source": [
    "arquivo = open('example.csv','r')\n",
    "\n",
    "for linha in arquivo:\n",
    "    print(linha)\n",
    "    \n",
    "arquivo.close()"
   ]
  },
  {
   "cell_type": "markdown",
   "metadata": {},
   "source": [
    "O método `open()` é responsável por abrir um arquivo, onde o argumento `r`, é utilizado para ativar o modo leitura.  "
   ]
  },
  {
   "cell_type": "code",
   "execution_count": 5,
   "metadata": {},
   "outputs": [
    {
     "name": "stdout",
     "output_type": "stream",
     "text": [
      "['4/5/2015 13:34', 'Apples', '73']\n",
      "['4/5/2015 3:41', 'cherries', '85']\n",
      "['4/6/2015 12:46', 'Pears', '14']\n",
      "['4/8/2015 8:59', 'Oranges', '52']\n",
      "['4/10/2015 2:07', 'Apples', '152']\n",
      "['4/10/2015 18:10', 'Bananas', '23']\n",
      "['4/10/2015 2:40', 'strawberries', '98']\n"
     ]
    }
   ],
   "source": [
    "# removendo quebra de linhas\n",
    "arquivo = open('example.csv','r')\n",
    "\n",
    "for linha in arquivo:\n",
    "    print(linha.strip().split(','))\n",
    "    \n",
    "arquivo.close()"
   ]
  },
  {
   "cell_type": "markdown",
   "metadata": {},
   "source": [
    "Podemos ler dados de um arquivo CSV usando o módulo `csv`, será preciso criar um objeto `Reader`. Um objeto `Reader` permite fazer interação pelas linhas do arquivo CSV."
   ]
  },
  {
   "cell_type": "code",
   "execution_count": 12,
   "metadata": {},
   "outputs": [],
   "source": [
    "import csv"
   ]
  },
  {
   "cell_type": "code",
   "execution_count": 13,
   "metadata": {},
   "outputs": [
    {
     "data": {
      "text/plain": [
       "[['4/5/2015 13:34', 'Apples', '73'],\n",
       " ['4/5/2015 3:41', 'cherries', '85'],\n",
       " ['4/6/2015 12:46', 'Pears', '14'],\n",
       " ['4/8/2015 8:59', 'Oranges', '52'],\n",
       " ['4/10/2015 2:07', 'Apples', '152'],\n",
       " ['4/10/2015 18:10', 'Bananas', '23'],\n",
       " ['4/10/2015 2:40', 'strawberries', '98']]"
      ]
     },
     "execution_count": 13,
     "metadata": {},
     "output_type": "execute_result"
    }
   ],
   "source": [
    "exampleFile = open('example.csv')\n",
    "exampleReader = csv.reader(exampleFile)\n",
    "exampleData = list(exampleReader)\n",
    "\n",
    "exampleData"
   ]
  },
  {
   "cell_type": "markdown",
   "metadata": {},
   "source": [
    "O módulo `csv` acompanha o Python, portanto podemos importá-lo sem que seja necessário instalá-lo antes.\n",
    "\n",
    "Para ler um arquivo CSV com o módulo `csv`, inicialmente abra esse arquivo usando a função `open()`, como você faria com qualquer outro arquivo-texto. Contudo, em vez de chamar o método `read()` ou `readlines()` no objeto `File` retornado por `open()`, passe-o para a função `csv.reader()`. Isso fará o objeto `Reader` ser retornado para que você possa usá-lo."
   ]
  },
  {
   "cell_type": "markdown",
   "metadata": {},
   "source": [
    "### Lendo dados de objetos Reader em um loop for\n",
    "\n",
    "Para arquivos CSV grandes, utilize o objeto `Reader` em um loop `for`. Isso evita a necessidade de carregar o arquivo inteiro na memória de uma só vez.\n",
    "\n",
    "Exemplo:"
   ]
  },
  {
   "cell_type": "code",
   "execution_count": 14,
   "metadata": {},
   "outputs": [
    {
     "name": "stdout",
     "output_type": "stream",
     "text": [
      "Row #1['4/5/2015 13:34', 'Apples', '73']\n",
      "Row #2['4/5/2015 3:41', 'cherries', '85']\n",
      "Row #3['4/6/2015 12:46', 'Pears', '14']\n",
      "Row #4['4/8/2015 8:59', 'Oranges', '52']\n",
      "Row #5['4/10/2015 2:07', 'Apples', '152']\n",
      "Row #6['4/10/2015 18:10', 'Bananas', '23']\n",
      "Row #7['4/10/2015 2:40', 'strawberries', '98']\n"
     ]
    }
   ],
   "source": [
    "exampleFile = open('example.csv')\n",
    "exampleReader = csv.reader(exampleFile)\n",
    "\n",
    "for row in exampleReader:\n",
    "    print('Row #' + str(exampleReader.line_num) + '' + str(row))"
   ]
  },
  {
   "cell_type": "markdown",
   "metadata": {},
   "source": [
    "Após ter importado o módulo `csv` e criado um objeto `Reader` a partir do arquivo CSV, podemos percorrer as linhas do objeto `Reader` em um loop. Cada linha corresponde a uma lista de valores, em que cada valor representa uma célula."
   ]
  },
  {
   "cell_type": "markdown",
   "metadata": {},
   "source": [
    "### Objetos Writer\n",
    "\n",
    "O objeto `Writer` permite escrever dados em um arquivo CSV. Para criar um objeto `Writer`, utilize a função `csv.writer()`. "
   ]
  },
  {
   "cell_type": "code",
   "execution_count": 16,
   "metadata": {},
   "outputs": [
    {
     "data": {
      "text/plain": [
       "21"
      ]
     },
     "execution_count": 16,
     "metadata": {},
     "output_type": "execute_result"
    }
   ],
   "source": [
    "outputFile = open('outout.csv','w',newline='')\n",
    "outputWriter = csv.writer(outputFile)\n",
    "outputWriter.writerow(['spam','eggs','bacon','ham'])\n",
    "\n",
    "outputFile.close()"
   ]
  },
  {
   "cell_type": "markdown",
   "metadata": {},
   "source": [
    "Inicialmente, chame `open()` e passe `w` para abrir um arquivo em modo de escrita. Isso criará o objeto que poderá então ser passado para `csv.writer()` a fim de criar um objeto `Writer`.\n",
    "\n",
    "O método `writerow()` dos objetos `Writer` aceita um argumento do tipo lista. Cada valor da lista é inserido em sua própria célula no arquivo CSV de saída. O valor de retorno de `writerow()` é o número de carateres escrito no arquivo para essa linha (incluindo os carateres de quebra de linha)."
   ]
  },
  {
   "cell_type": "markdown",
   "metadata": {},
   "source": [
    "### Argumentos nomeados delimiter e lineterminator\n",
    "\n",
    "Suponha que você queira separar as células com um caracter de tabulação no lugar de uma vírgula e queira que as linhas tenham espaçamento duplo."
   ]
  },
  {
   "cell_type": "code",
   "execution_count": 17,
   "metadata": {},
   "outputs": [
    {
     "data": {
      "text/plain": [
       "22"
      ]
     },
     "execution_count": 17,
     "metadata": {},
     "output_type": "execute_result"
    }
   ],
   "source": [
    "csvFile = open('teste.csv','w',newline='')\n",
    "csvWriter = csv.writer(csvFile, delimiter='\\t', lineterminator='\\n\\n')\n",
    "csvWriter.writerow(['apples','orange','grapes'])\n",
    "\n",
    "csvFile.close()"
   ]
  },
  {
   "cell_type": "markdown",
   "metadata": {},
   "source": [
    "O *delimitador* (delimiter) é o caractere que aparece entre as células e uma linha. Por padrão, o delimitador em um arquivo CSV é uma vírgula. O *finalizador de linha* (line terminator) é o caractere inserido no final de uma linha. "
   ]
  },
  {
   "cell_type": "markdown",
   "metadata": {},
   "source": [
    "# Tratamento de exceções\n",
    "\n",
    "O Python como a maioria das linguagens de programação permite que você capture erros através dos objetos de exceção, assim você pode tentar corrigir o erro sem a necessidade de interromper a execução do programa ou mesmo mandar uma mensagem de erro que o usuário final possa commpreender.\n",
    "\n",
    "A estrutura é da seguinte forma:"
   ]
  },
  {
   "cell_type": "markdown",
   "metadata": {},
   "source": [
    "`try:\n",
    "    suite\n",
    "except ObjetoExceção:\n",
    "    suite`"
   ]
  },
  {
   "cell_type": "markdown",
   "metadata": {},
   "source": [
    "Exemplo: "
   ]
  },
  {
   "cell_type": "code",
   "execution_count": 18,
   "metadata": {},
   "outputs": [
    {
     "name": "stdout",
     "output_type": "stream",
     "text": [
      "Erro: Divisão por Zero\n"
     ]
    }
   ],
   "source": [
    "x = 12\n",
    "y = 0\n",
    "\n",
    "try:\n",
    "    z = x/y\n",
    "except ZeroDivisionError:\n",
    "    print('Erro: Divisão por Zero')"
   ]
  },
  {
   "cell_type": "code",
   "execution_count": 19,
   "metadata": {},
   "outputs": [
    {
     "name": "stdout",
     "output_type": "stream",
     "text": [
      "Erro: arquivo não encontrado\n",
      "Sempre executado\n"
     ]
    }
   ],
   "source": [
    "try:\n",
    "    arq = open('arquivo.txt','r')\n",
    "except FileNotFoundError:\n",
    "    print('Erro: arquivo não encontrado')\n",
    "else:\n",
    "    print('Esta suite não é executada')\n",
    "finally:\n",
    "    print('Sempre executado')"
   ]
  },
  {
   "cell_type": "markdown",
   "metadata": {},
   "source": [
    "No exemplo acima mandamos o Python abrir um arquivo que não existia então é lançada um exceção `FileNotFoundError` (arquivo não encontrado) a suite de except é executada mas não a de else e finalmente a suite de `finally` sempre é executada."
   ]
  },
  {
   "cell_type": "code",
   "execution_count": 22,
   "metadata": {},
   "outputs": [
    {
     "name": "stdout",
     "output_type": "stream",
     "text": [
      "Row #1['4/5/2015 13:34', 'Apples', '73']\n",
      "Row #2['4/5/2015 3:41', 'cherries', '85']\n",
      "Row #3['4/6/2015 12:46', 'Pears', '14']\n",
      "Row #4['4/8/2015 8:59', 'Oranges', '52']\n",
      "Row #5['4/10/2015 2:07', 'Apples', '152']\n",
      "Row #6['4/10/2015 18:10', 'Bananas', '23']\n",
      "Row #7['4/10/2015 2:40', 'strawberries', '98']\n",
      "************\n",
      "Eu sou sempre executado\n"
     ]
    }
   ],
   "source": [
    "try:\n",
    "    arq = open('example.csv')\n",
    "except FileNotFoundError:\n",
    "    print(\"Erro: arquivo não encontrado\")\n",
    "else:\n",
    "    exampleReader = csv.reader(arq)\n",
    "    for row in exampleReader:\n",
    "        print('Row #' + str(exampleReader.line_num) + '' + str(row))\n",
    "finally:\n",
    "    print('************')\n",
    "    print('Eu sou sempre executado')\n"
   ]
  },
  {
   "cell_type": "markdown",
   "metadata": {},
   "source": [
    "O comando opcional `finally` tem a finalidade de permitir a iplementação de ações de limpeza, que sempre devems er executadas independentemente da ocorrência de exceções."
   ]
  },
  {
   "cell_type": "markdown",
   "metadata": {},
   "source": [
    "### Criando Exceções\n",
    "\n",
    "Programas podem definir novos tipos de exceções, através da criação de uma nova classe. Exceções devem ser derivadas da classe **Exception**, direta ou indiretamente. Por exemplo:"
   ]
  },
  {
   "cell_type": "code",
   "execution_count": 10,
   "metadata": {},
   "outputs": [],
   "source": [
    "class MeuErro(Exception):\n",
    "    def __init__(self, valor):\n",
    "        self.valor = valor\n",
    "    \n",
    "    def __str__(self):\n",
    "        return repr(self.valor)"
   ]
  },
  {
   "cell_type": "code",
   "execution_count": 11,
   "metadata": {},
   "outputs": [
    {
     "name": "stdout",
     "output_type": "stream",
     "text": [
      "Minha exceção ocorreu, valor: 4\n"
     ]
    },
    {
     "ename": "MeuErro",
     "evalue": "'oops!'",
     "output_type": "error",
     "traceback": [
      "\u001b[0;31m---------------------------------------------------------------------------\u001b[0m",
      "\u001b[0;31mMeuErro\u001b[0m                                   Traceback (most recent call last)",
      "\u001b[0;32m<ipython-input-11-e41ed15d3a6c>\u001b[0m in \u001b[0;36m<module>\u001b[0;34m\u001b[0m\n\u001b[1;32m      4\u001b[0m     \u001b[0mprint\u001b[0m\u001b[0;34m(\u001b[0m\u001b[0;34m'Minha exceção ocorreu, valor: {}'\u001b[0m\u001b[0;34m.\u001b[0m\u001b[0mformat\u001b[0m\u001b[0;34m(\u001b[0m\u001b[0me\u001b[0m\u001b[0;34m.\u001b[0m\u001b[0mvalor\u001b[0m\u001b[0;34m)\u001b[0m\u001b[0;34m)\u001b[0m\u001b[0;34m\u001b[0m\u001b[0;34m\u001b[0m\u001b[0m\n\u001b[1;32m      5\u001b[0m \u001b[0;34m\u001b[0m\u001b[0m\n\u001b[0;32m----> 6\u001b[0;31m \u001b[0;32mraise\u001b[0m \u001b[0mMeuErro\u001b[0m\u001b[0;34m(\u001b[0m\u001b[0;34m'oops!'\u001b[0m\u001b[0;34m)\u001b[0m\u001b[0;34m\u001b[0m\u001b[0;34m\u001b[0m\u001b[0m\n\u001b[0m",
      "\u001b[0;31mMeuErro\u001b[0m: 'oops!'"
     ]
    }
   ],
   "source": [
    "try:\n",
    "    raise MeuErro(2*2)\n",
    "except MeuErro as e:\n",
    "    print('Minha exceção ocorreu, valor: {}'.format(e.valor))\n",
    "    \n",
    "raise MeuErro('oops!')"
   ]
  }
 ],
 "metadata": {
  "kernelspec": {
   "display_name": "Python 3",
   "language": "python",
   "name": "python3"
  },
  "language_info": {
   "codemirror_mode": {
    "name": "ipython",
    "version": 3
   },
   "file_extension": ".py",
   "mimetype": "text/x-python",
   "name": "python",
   "nbconvert_exporter": "python",
   "pygments_lexer": "ipython3",
   "version": "3.7.3"
  }
 },
 "nbformat": 4,
 "nbformat_minor": 2
}
