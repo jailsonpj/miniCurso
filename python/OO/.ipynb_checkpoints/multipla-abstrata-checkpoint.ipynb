{
 "cells": [
  {
   "cell_type": "markdown",
   "metadata": {},
   "source": [
    "# Herança Múltipla e Classe Abstrata\n",
    "\n",
    "Curso SIDIA - Outubro de 2019\n",
    "\n",
    "*Orientação a Objetos com Python*"
   ]
  },
  {
   "cell_type": "markdown",
   "metadata": {},
   "source": [
    "### Herança Múltipla \n",
    "\n",
    "É a capacidade de herdar características de mais de uma classe:\n",
    "\n",
    "![](classes_1.png)\n",
    "\n",
    "Embora a herança múltipla seja um recurso presente em diversas linguagens de programação, o seu uso pode facilmente se tornar um problema. Motivo? O temido [*Diamond of Death*](https://en.wikipedia.org/wiki/Multiple_inheritance#The_diamond_problem)\n",
    "\n",
    "Imagine a seguinte situação:"
   ]
  },
  {
   "cell_type": "code",
   "execution_count": 1,
   "metadata": {},
   "outputs": [
    {
     "name": "stdout",
     "output_type": "stream",
     "text": [
      "Hi!\n"
     ]
    }
   ],
   "source": [
    "class English(object):\n",
    "    def greet(self):\n",
    "        print('Hi!')\n",
    "        \n",
    "class Portuguese(object):\n",
    "    def greet(self):\n",
    "        print('Oi!')\n",
    "        \n",
    "class Bilingual(English, Portuguese):\n",
    "    pass\n",
    "\n",
    "if __name__ == '__main__':\n",
    "    Bilingual().greet()"
   ]
  },
  {
   "cell_type": "markdown",
   "metadata": {},
   "source": [
    "No Python, em caso de herança múltipla, a prioridade é definida da **esquerda para a direita**, ou seja:\n",
    "\n",
    "`class Bilingual(English, Portuguese):`"
   ]
  },
  {
   "cell_type": "markdown",
   "metadata": {},
   "source": [
    "`Bilingual` dará preferência ao método `greet` de `English`. O resultado da execução será:\n",
    "\n",
    "`Hi!`"
   ]
  },
  {
   "cell_type": "markdown",
   "metadata": {},
   "source": [
    "Por convenção, progamadores Python implementam herança múltipla de forma bem granular, usando **Mixins**! O código do [Django](https://github.com/django/django) tem muitos bons exemplos."
   ]
  },
  {
   "cell_type": "markdown",
   "metadata": {},
   "source": [
    "### Classes Abstratas\n",
    "\n",
    "Em orientação a Objetos, existem as *Classes Abstratas*, que são classes que servem de modelo para outras classes. Elas não podem ser instanciadas mas podem conter atributos e métodos. Seus métodos e propriedades podem ser abstratos (sem implementação).\n",
    "\n",
    "Em Python o uso das classes abstratas são para definir bases comuns e formalizar interfaces."
   ]
  },
  {
   "cell_type": "code",
   "execution_count": 13,
   "metadata": {},
   "outputs": [],
   "source": [
    "from abc import ABCMeta, abstractmethod\n",
    "from datetime import date"
   ]
  },
  {
   "cell_type": "code",
   "execution_count": 14,
   "metadata": {},
   "outputs": [],
   "source": [
    "class Pessoa(ABC):\n",
    "    @abstractmethod\n",
    "    def calcularIdade(self, dataNascimento):\n",
    "        idade = date.today().year - dataNascimento.year\n",
    "        return str(idade) + \" anos\"\n",
    "\n",
    "class PessoaFisica(Pessoa):\n",
    "    def __init__(self):\n",
    "        pass\n",
    "\n",
    "    def calcularIdade(self, dataNascimento):\n",
    "        return super().calcularIdade(dataNascimento)"
   ]
  },
  {
   "cell_type": "code",
   "execution_count": 15,
   "metadata": {},
   "outputs": [
    {
     "name": "stdout",
     "output_type": "stream",
     "text": [
      "32 anos\n"
     ]
    }
   ],
   "source": [
    "p = PessoaFisica()\n",
    "print(p.calcularIdade(date(1987,12,14)))"
   ]
  },
  {
   "cell_type": "markdown",
   "metadata": {},
   "source": [
    "# Arquivos, Exceções, Métodos de classe, args e kwargs"
   ]
  },
  {
   "cell_type": "markdown",
   "metadata": {},
   "source": [
    "### Trabalhando com arquivos\n",
    "\n",
    "Em ambientes corporativos, é comum a necessidade de envio de dados entre serviços. Uma estratégia comum, é criação de arquivos CSV.\n",
    "\n",
    "Vamos começar, lendo um arquivo com dados de GIBIS."
   ]
  },
  {
   "cell_type": "code",
   "execution_count": 17,
   "metadata": {},
   "outputs": [
    {
     "name": "stdout",
     "output_type": "stream",
     "text": [
      "4/5/2015 13:34,Apples,73\n",
      "\n",
      "4/5/2015 3:41,cherries,85\n",
      "\n",
      "4/6/2015 12:46,Pears,14\n",
      "\n",
      "4/8/2015 8:59,Oranges,52\n",
      "\n",
      "4/10/2015 2:07,Apples,152\n",
      "\n",
      "4/10/2015 18:10,Bananas,23\n",
      "\n",
      "4/10/2015 2:40,strawberries,98\n",
      "\n"
     ]
    }
   ],
   "source": [
    "arquivo = open('example.csv','r')\n",
    "\n",
    "for linha in arquivo:\n",
    "    print(linha)\n",
    "    \n",
    "arquivo.close()"
   ]
  },
  {
   "cell_type": "markdown",
   "metadata": {},
   "source": [
    "O método `open()` é responsável por abrir um arquivo, onde o argumento `r` passado no método é utilizado para ativar o modo leitura.  "
   ]
  },
  {
   "cell_type": "code",
   "execution_count": 18,
   "metadata": {},
   "outputs": [
    {
     "name": "stdout",
     "output_type": "stream",
     "text": [
      "4/5/2015 13:34,Apples,73\n",
      "4/5/2015 3:41,cherries,85\n",
      "4/6/2015 12:46,Pears,14\n",
      "4/8/2015 8:59,Oranges,52\n",
      "4/10/2015 2:07,Apples,152\n",
      "4/10/2015 18:10,Bananas,23\n",
      "4/10/2015 2:40,strawberries,98\n"
     ]
    }
   ],
   "source": [
    "# removendo quebra de linhas\n",
    "arquivo = open('example.csv','r')\n",
    "\n",
    "for linha in arquivo:\n",
    "    print(linha.strip())\n",
    "    \n",
    "arquivo.close()"
   ]
  }
 ],
 "metadata": {
  "kernelspec": {
   "display_name": "Python 3",
   "language": "python",
   "name": "python3"
  },
  "language_info": {
   "codemirror_mode": {
    "name": "ipython",
    "version": 3
   },
   "file_extension": ".py",
   "mimetype": "text/x-python",
   "name": "python",
   "nbconvert_exporter": "python",
   "pygments_lexer": "ipython3",
   "version": "3.7.3"
  }
 },
 "nbformat": 4,
 "nbformat_minor": 2
}
