{
 "cells": [
  {
   "cell_type": "markdown",
   "metadata": {},
   "source": [
    "# Herança, Polimorfismo e Sobrescrita de Métodos\n",
    "\n",
    "Curso SIDIA - Outubro de 2019\n",
    "\n",
    "*Orientação a Objetos com Python*"
   ]
  },
  {
   "cell_type": "markdown",
   "metadata": {},
   "source": [
    "### Herança:\n",
    "\n",
    "A herança é a capacidade de definir uma nova classe que seja uma versão modificada de um classe existente.\n",
    "\n",
    "- Nos permite que uma classe possa ser derivada de uma clase base\n",
    "- Reuso de algoritmos\n",
    "- Classes filhas herdam métodos e atributos da classe pai mas só possuem acesso direto aos comportamentos públicos da classe pai."
   ]
  },
  {
   "cell_type": "code",
   "execution_count": 1,
   "metadata": {},
   "outputs": [],
   "source": [
    "class Funcionario(object):\n",
    "    def __init__(self, nome, cpf, salario):\n",
    "        self.__nome = nome\n",
    "        self.__cpf = cpf\n",
    "        self.__salario = salario\n",
    "        \n",
    "class Gerente(Funcionario):\n",
    "    def __init__(self, nome, cpf, salario, senha, qtd_funcionarios):\n",
    "        super().__init__(nome, cpf, salario)\n",
    "        self.__senha = senha\n",
    "        self.__qtd_funcionarios = qtd_funcionarios"
   ]
  },
  {
   "cell_type": "markdown",
   "metadata": {},
   "source": [
    "- O `super()` é utilizado entre heranças de classes\n",
    "- Usado para fazer referência a superclasse\n",
    "- Proporciona estender/sobrescrever métodos de uma super classe (classe pai) para uma sub classe (classe filha)\n",
    "\n",
    "classe-pai : classe da qual uma classe-filho herda\n",
    "\n",
    "classe-filho: Nova classse criada por herança de uma classe existente; também chamada de *subclasse* "
   ]
  },
  {
   "cell_type": "code",
   "execution_count": 1,
   "metadata": {},
   "outputs": [
    {
     "name": "stdout",
     "output_type": "stream",
     "text": [
      "Herdou!\n"
     ]
    }
   ],
   "source": [
    "class ClasseMae():\n",
    "\n",
    "    @staticmethod\n",
    "    def metodoEstatico():\n",
    "        print(\"Herdou!\")\n",
    "\n",
    "class ClasseFilha(ClasseMae):\n",
    "\n",
    "    def qualquer(self,x):\n",
    "       self.x = x\n",
    "       print(self.x)\n",
    "\n",
    "\n",
    "if __name__ == \"__main__\":\n",
    "    c = ClasseFilha()\n",
    "    c.metodoEstatico()"
   ]
  },
  {
   "cell_type": "markdown",
   "metadata": {},
   "source": [
    "### Reescrita de Métodos"
   ]
  },
  {
   "cell_type": "markdown",
   "metadata": {},
   "source": [
    "Todo fim de ano, os funcionários do nosso banco recebem uma bonificação. Os funcionários comuns recebem 10% do valor do salário e os gerentes, 15%.\n",
    "\n",
    "Vamos ver como fica a classe `Funcionario`:"
   ]
  },
  {
   "cell_type": "code",
   "execution_count": 12,
   "metadata": {},
   "outputs": [],
   "source": [
    "class Funcionario(object):\n",
    "    def __init__(self, nome, cpf, salario):\n",
    "        self.__nome = nome\n",
    "        self.__cpf = cpf\n",
    "        self._salario = salario\n",
    "        \n",
    "    def get_bonus(self):\n",
    "        return self._salario * 0.10"
   ]
  },
  {
   "cell_type": "code",
   "execution_count": 13,
   "metadata": {},
   "outputs": [],
   "source": [
    "class Gerente(Funcionario):\n",
    "    def __init__(self, nome, cpf, salario, senha, qtd_funcionarios):\n",
    "        super().__init__(nome, cpf, salario)\n",
    "        self.__senha = senha\n",
    "        self.__qtd_funcionarios = qtd_funcionarios"
   ]
  },
  {
   "cell_type": "markdown",
   "metadata": {},
   "source": [
    "Se deixarmos a classe `Gerente` como ela está, ela vai herdar o método `get_bonus()`"
   ]
  },
  {
   "cell_type": "code",
   "execution_count": 15,
   "metadata": {},
   "outputs": [
    {
     "name": "stdout",
     "output_type": "stream",
     "text": [
      "500.0\n"
     ]
    }
   ],
   "source": [
    "gerente = Gerente('Jailson','222222222-22', 5000.0, '1234', 0)\n",
    "print(gerente.get_bonus())"
   ]
  },
  {
   "cell_type": "markdown",
   "metadata": {},
   "source": [
    "O resultado aqui é de 500. Não queremos essa resposta, pois o gerente deveria ter 750 de bônus nesse caso. Para consertar isso, uma das opções seria criar um novo método na classe `Gerente`, chamado, por exemplo, `get_bonus_gerente()`. O problema é que teríamos dois métodos em `Gerente`, confundindo bastante quem for usar essa classe, além de que cada um gerenciaria uma resposta diferente.\n",
    "\n",
    "No Python, quando herdamos um método, podemos alterar seu comportamento. Podemos **reescrever** (sobrescrever, override) este método, assim como fizemos com o `__init__`:"
   ]
  },
  {
   "cell_type": "code",
   "execution_count": 14,
   "metadata": {},
   "outputs": [],
   "source": [
    "class Gerente(Funcionario):\n",
    "    def __init__(self, nome, cpf, salario, senha, qtd_funcionarios):\n",
    "        super().__init__(nome, cpf, salario)\n",
    "        self.__senha = senha\n",
    "        self.__qtd_funcionarios = qtd_funcionarios\n",
    "        \n",
    "    def get_bonus(self):\n",
    "        return self._salario * 0.15"
   ]
  },
  {
   "cell_type": "code",
   "execution_count": 36,
   "metadata": {},
   "outputs": [
    {
     "name": "stdout",
     "output_type": "stream",
     "text": [
      "750.0\n"
     ]
    }
   ],
   "source": [
    "gerente = Gerente('Jailson','222222222-22', 5000.0, '1234', 0)\n",
    "print(gerente.get_bonus())"
   ]
  },
  {
   "cell_type": "code",
   "execution_count": null,
   "metadata": {},
   "outputs": [],
   "source": []
  },
  {
   "cell_type": "code",
   "execution_count": 6,
   "metadata": {},
   "outputs": [],
   "source": [
    "class Veiculo:\n",
    "    def andar(self):\n",
    "        print('andei')\n",
    "        \n",
    "class Carro(Veiculo):\n",
    "    def andar(self):\n",
    "        print('andei de carro')"
   ]
  },
  {
   "cell_type": "code",
   "execution_count": 19,
   "metadata": {},
   "outputs": [
    {
     "name": "stdout",
     "output_type": "stream",
     "text": [
      "andei de carro\n",
      "None\n"
     ]
    }
   ],
   "source": [
    "carro = Carro()\n",
    "print(carro.andar())"
   ]
  },
  {
   "cell_type": "markdown",
   "metadata": {},
   "source": [
    "Utilize o método `vars()` para acessar os atributos de `Gerente` e ver que a classe herda dos atributos de `Funcionario`:"
   ]
  },
  {
   "cell_type": "code",
   "execution_count": 38,
   "metadata": {},
   "outputs": [
    {
     "name": "stdout",
     "output_type": "stream",
     "text": [
      "{'_Funcionario__nome': 'João', '_Funcionario__cpf': '11111111-11', '_salario': 2000.0}\n"
     ]
    }
   ],
   "source": [
    "funcionario = Funcionario('João','11111111-11', 2000.0)\n",
    "print(vars(funcionario))"
   ]
  },
  {
   "cell_type": "code",
   "execution_count": 39,
   "metadata": {},
   "outputs": [
    {
     "name": "stdout",
     "output_type": "stream",
     "text": [
      "{'_Funcionario__nome': 'Maria', '_Funcionario__cpf': '22222222-22', '_salario': 5000.0, '_Gerente__senha': '1234', '_Gerente__qtd_funcionarios': 0}\n"
     ]
    }
   ],
   "source": [
    "gerente = Gerente('Maria','22222222-22', 5000.0,'1234',0)\n",
    "print(vars(gerente))"
   ]
  },
  {
   "cell_type": "markdown",
   "metadata": {},
   "source": [
    "### Invocando o Método Reescrito"
   ]
  },
  {
   "cell_type": "markdown",
   "metadata": {},
   "source": [
    "Agora, imagine que para calcular a bonificação de um `Gerente` devemos fazer igual ao cálculo de um `Funcionario` adicionando 1000.0 reais. Poderíamos fazer assim:"
   ]
  },
  {
   "cell_type": "code",
   "execution_count": 15,
   "metadata": {},
   "outputs": [],
   "source": [
    "class Gerente(Funcionario):\n",
    "    def __init__(self, senha, qtd_gerenciaveis):\n",
    "        self._senha = senha\n",
    "        self._qtd_gerenciaveis = qtd_gerenciaveis\n",
    "        \n",
    "    def get_bonus(self):\n",
    "        return self._salario * 0.10 + 1000.0"
   ]
  },
  {
   "cell_type": "markdown",
   "metadata": {},
   "source": [
    "Aqui teríamos um problema: o dia que precisarmos alterar o `get_bonus()` do `Funcionario`, precisaremos mudar o método do `Gerente` para acompanhar a nova bonificação. Para evitar isso, o `get_bonus()` do `Gerente` pode chamar o do `Funcionario` utilizando o método `super()`."
   ]
  },
  {
   "cell_type": "code",
   "execution_count": 16,
   "metadata": {},
   "outputs": [],
   "source": [
    "class Gerente(Funcionario):\n",
    "    def __init__(self, nome,cpf, salario, senha, qtd_gerenciaveis):\n",
    "        super().__init__(nome,cpf,salario) \n",
    "        self._senha = senha\n",
    "        self._qtd_gerenciaveis = qtd_gerenciaveis\n",
    "        \n",
    "    def get_bonus(self):\n",
    "        return super().get_bonus() + 1000.0"
   ]
  },
  {
   "cell_type": "markdown",
   "metadata": {},
   "source": [
    "Essa invocação vai procurar o método com o nome `get_bonus` de uma superclasse de `Gerente`. No caso, ele vai encontrar esse método em `Funcionario`.\n",
    "\n",
    "Essa é uma prática comum, pois em muitos casos o método reescrito geralmente faz algo a mais que o método da classe mãe. Chamar ou não o método de cima é uma decisão e depende do seu problema. "
   ]
  },
  {
   "cell_type": "markdown",
   "metadata": {},
   "source": [
    "### Polimorfismo"
   ]
  },
  {
   "cell_type": "markdown",
   "metadata": {},
   "source": [
    "O que guarda uma variável do tipo `Funcionario`? Uma referência para um `Funcionario`, nunca o objeto em si.\n",
    "\n",
    "Na herança, todo `Gerente` é um `Funcionario`, pois é uma extensão deste.\n",
    "Pdemos nos referir a um `Gerente` como sendo um `Funcionario`. Se alguém precisa falar com um `Funcionario`, pode falar com um `Gerente`!Porquê? Pois `Gerente` é um `Funcionario`. Essa é a semântica da herança.\n",
    "\n",
    "Polimorfismo é a capacidade de um objeto poder ser referenciado de várias formas.\n",
    "\n",
    "Na programação orientada ao objeto o polimorfismo permite que os objetos de diferentes tipos, cada um com seus comportamentos específicos, possam ser tratados a partir de uma classe, comum a todos as diferentes classes, mais abstrata. Ou seja, um objeto, de uma classe A mais abstrata, pode assumir o papel de diferentes tipos de objetos de classes derivadas, mais concretas.\n",
    "\n",
    "**ATENÇÃO**: Polimrofismo não que dizer que o objeto fica se transformando, muito pelo contrário, um objeto nasce de um tipo e morre daquele tipo, o que pode mudar é a maneira como nos referimos a ele."
   ]
  },
  {
   "cell_type": "code",
   "execution_count": 20,
   "metadata": {},
   "outputs": [],
   "source": [
    "class ControleDeBonus(object):\n",
    "    def __init__(self, total_bonus=0):\n",
    "        self._total_bonus = total_bonus\n",
    "        \n",
    "    def registra(self, funcionario):\n",
    "        self._total_bonus += funcionario.get_bonus()\n",
    "    \n",
    "    @property\n",
    "    def total_bonus(self):\n",
    "        return self._total_bonus"
   ]
  },
  {
   "cell_type": "markdown",
   "metadata": {},
   "source": [
    "E podemos fazer:"
   ]
  },
  {
   "cell_type": "code",
   "execution_count": 21,
   "metadata": {},
   "outputs": [
    {
     "name": "stdout",
     "output_type": "stream",
     "text": [
      "bonificacao funcionario: 200.0\n",
      "bonificacao gerente: 1500.0\n",
      "total: 1700.0\n"
     ]
    }
   ],
   "source": [
    "funcionario = Funcionario('João', '111111111-11', 2000.0)\n",
    "print(\"bonificacao funcionario: {}\".format(funcionario.get_bonus()))\n",
    "\n",
    "gerente = Gerente('Maria','22222222-22', 5000.0,'1234',0)\n",
    "print(\"bonificacao gerente: {}\".format(gerente.get_bonus()))\n",
    "\n",
    "controle = ControleDeBonus()\n",
    "controle.registra(funcionario)\n",
    "controle.registra(gerente)\n",
    "\n",
    "print(\"total: {}\".format(controle.total_bonus))"
   ]
  },
  {
   "cell_type": "markdown",
   "metadata": {},
   "source": [
    "Repare que conseguimos passar um `Gerente`para um método que \"recebe\" um `Funcionario` como argumento. Pense como numa porta de uma agência bancária com o seguinte aviso: \"permitida a entrada apenas de Funcionário\". Um gerente pode passar nessa porta? Sim, pois `Gerente` é um `Funcionario`.\n",
    "\n",
    "No dia em que criamos uma classe `Secretaria`, por exemplo, que é flha de `Funcionario`, precisaremos mudar a classe `ControleDeBonus`? Não. Basta a classe `Secretaria` reescrever os métodos que lhe parecerem necessários. É exatamente esse o poder do polimorfismo, juntamente com a reescrita de método: diminuir o acoplamento entre as classes, para evitar que novos códigos resuktem em modificações em inúmeros lugares."
   ]
  },
  {
   "cell_type": "markdown",
   "metadata": {},
   "source": [
    "### Polimorfismo pythônico"
   ]
  },
  {
   "cell_type": "markdown",
   "metadata": {},
   "source": [
    "Em `Java` e `C++`, o polimorfismo está fortemente ligado à herança entre classes, mas o python segue o conceito [*Duck Typing*](https://en.wikipedia.org/wiki/Duck_typing):\n",
    "    - Não precisamos saber a classe para invocar um método de um objeto\n",
    "    - Se o método for definido no objeto, nós podemos invocá-lo\n",
    "    \n",
    "**Duck typing** foi inspirada no Duck test, atribuído a *James Whitcomb Riley*:\n",
    "    \n",
    "    \"If it looks like a duck, swims like a duck, and quacks like a duck, then it probably is a duck\"."
   ]
  },
  {
   "cell_type": "code",
   "execution_count": 57,
   "metadata": {},
   "outputs": [],
   "source": [
    "class Pessoa:\n",
    "    def falar(self):\n",
    "        print('bom Dia!')\n",
    "        \n",
    "class Pato:\n",
    "    def falar(self):\n",
    "        print('Quack quack')\n",
    "        \n",
    "class Cachorro:\n",
    "    def falar(self):\n",
    "        print('au au')\n",
    "        \n",
    "class Gato:\n",
    "    def falar(self):\n",
    "        print('Miau')\n",
    "        \n",
    "def funcao(ser_vivo):\n",
    "    ser_vivo.falar()"
   ]
  },
  {
   "cell_type": "code",
   "execution_count": 58,
   "metadata": {},
   "outputs": [
    {
     "name": "stdout",
     "output_type": "stream",
     "text": [
      "bom Dia!\n",
      "Quack quack\n",
      "au au\n",
      "Miau\n"
     ]
    }
   ],
   "source": [
    "funcao(Pessoa())\n",
    "funcao(Pato())\n",
    "funcao(Cachorro())\n",
    "funcao(Gato())"
   ]
  },
  {
   "cell_type": "code",
   "execution_count": 22,
   "metadata": {},
   "outputs": [
    {
     "name": "stdout",
     "output_type": "stream",
     "text": [
      "Duck flying\n",
      "Airplane flying\n"
     ]
    },
    {
     "ename": "AttributeError",
     "evalue": "'Whale' object has no attribute 'fly'",
     "output_type": "error",
     "traceback": [
      "\u001b[0;31m---------------------------------------------------------------------------\u001b[0m",
      "\u001b[0;31mAttributeError\u001b[0m                            Traceback (most recent call last)",
      "\u001b[0;32m<ipython-input-22-8bb33143d588>\u001b[0m in \u001b[0;36m<module>\u001b[0;34m\u001b[0m\n\u001b[1;32m     12\u001b[0m \u001b[0;34m\u001b[0m\u001b[0m\n\u001b[1;32m     13\u001b[0m \u001b[0;32mfor\u001b[0m \u001b[0manimal\u001b[0m \u001b[0;32min\u001b[0m \u001b[0mDuck\u001b[0m\u001b[0;34m(\u001b[0m\u001b[0;34m)\u001b[0m\u001b[0;34m,\u001b[0m \u001b[0mAirplane\u001b[0m\u001b[0;34m(\u001b[0m\u001b[0;34m)\u001b[0m\u001b[0;34m,\u001b[0m \u001b[0mWhale\u001b[0m\u001b[0;34m(\u001b[0m\u001b[0;34m)\u001b[0m\u001b[0;34m:\u001b[0m\u001b[0;34m\u001b[0m\u001b[0;34m\u001b[0m\u001b[0m\n\u001b[0;32m---> 14\u001b[0;31m     \u001b[0manimal\u001b[0m\u001b[0;34m.\u001b[0m\u001b[0mfly\u001b[0m\u001b[0;34m(\u001b[0m\u001b[0;34m)\u001b[0m\u001b[0;34m\u001b[0m\u001b[0;34m\u001b[0m\u001b[0m\n\u001b[0m",
      "\u001b[0;31mAttributeError\u001b[0m: 'Whale' object has no attribute 'fly'"
     ]
    }
   ],
   "source": [
    "class Duck:\n",
    "    def fly(self):\n",
    "        print(\"Duck flying\")\n",
    "\n",
    "class Airplane:\n",
    "    def fly(self):\n",
    "        print(\"Airplane flying\")\n",
    "\n",
    "class Whale:\n",
    "    def swim(self):\n",
    "        print(\"Whale swimming\")\n",
    "\n",
    "for animal in Duck(), Airplane(), Whale():\n",
    "    animal.fly()"
   ]
  },
  {
   "cell_type": "markdown",
   "metadata": {},
   "source": [
    "Bibliografia:\n",
    "\n",
    "• LIVRO: Apress - Beginning Python From Novice to Professional\n",
    "\n",
    "• LIVRO: O'Relly - Learning Python\n",
    "\n",
    "• [Link](http://www.python.org)\n",
    "\n",
    "• [Link](http://www.python.org.br)\n",
    "\n",
    "• [Mais exercícios](http://wiki.python.org.br/ListaDeExercicios)\n",
    "\n",
    "• [Documentação do python](http://docs.python.org/2/)"
   ]
  },
  {
   "cell_type": "markdown",
   "metadata": {},
   "source": [
    "**Autor**: Jailson Pereira Januário "
   ]
  }
 ],
 "metadata": {
  "kernelspec": {
   "display_name": "Python 3",
   "language": "python",
   "name": "python3"
  },
  "language_info": {
   "codemirror_mode": {
    "name": "ipython",
    "version": 3
   },
   "file_extension": ".py",
   "mimetype": "text/x-python",
   "name": "python",
   "nbconvert_exporter": "python",
   "pygments_lexer": "ipython3",
   "version": "3.7.3"
  }
 },
 "nbformat": 4,
 "nbformat_minor": 2
}
