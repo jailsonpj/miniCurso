{
 "cells": [
  {
   "cell_type": "markdown",
   "metadata": {},
   "source": [
    "# Herança, Polimorfismo e Sobrescrita de Métodos"
   ]
  },
  {
   "cell_type": "markdown",
   "metadata": {},
   "source": [
    "Herança:\n",
    "- Nos permite que uma classe possa ser derivada de uma clase base\n",
    "- Reuso de algoritmos\n",
    "- Classes filhas herdam métodos e atributos da classe pai mas só possuem acesso direto aos comportamentos públicos da classe pai."
   ]
  },
  {
   "cell_type": "code",
   "execution_count": null,
   "metadata": {},
   "outputs": [],
   "source": [
    "class Funcionario(object):\n",
    "    def __init__(self, nome, cpf, salario):\n",
    "        self.__nome = nome\n",
    "        self.__cpf = cpf\n",
    "        self.__salario = salario\n",
    "        \n",
    "class Gerente(Funcionario):\n",
    "    def __init__(self, nome, cpf, salario, senha, qtd_funcionarios):\n",
    "        super().__init__(nome, cpf, salario)\n",
    "        self.__senha = senha\n",
    "        self.__qtd_funcionarios = qtd_funcionarios"
   ]
  }
 ],
 "metadata": {
  "kernelspec": {
   "display_name": "Python 3",
   "language": "python",
   "name": "python3"
  },
  "language_info": {
   "codemirror_mode": {
    "name": "ipython",
    "version": 3
   },
   "file_extension": ".py",
   "mimetype": "text/x-python",
   "name": "python",
   "nbconvert_exporter": "python",
   "pygments_lexer": "ipython3",
   "version": "3.7.3"
  }
 },
 "nbformat": 4,
 "nbformat_minor": 2
}
