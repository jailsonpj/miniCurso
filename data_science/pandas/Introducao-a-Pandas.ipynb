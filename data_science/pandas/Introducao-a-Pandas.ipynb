{
 "cells": [
  {
   "cell_type": "markdown",
   "metadata": {},
   "source": [
    "# Manipulação de Dados com Pandas"
   ]
  },
  {
   "cell_type": "markdown",
   "metadata": {},
   "source": [
    "O Pandas é um pacote, construído sobre o NumPy, e fornece uma implementação eficiente de um ``DataFrame``. Os ``DataFrames`` são essencialmente matrizes multidimensionais com rótulos de linha e coluna anexados e geralmente com tipos heterogêneos e/ou dados ausentes. Além de oferecer uma interface de armazenamento conveniente para dados rotulados, o Pandas implementa várias operações de dados poderosas, familiares aos usuários de estruturas de bancos de dados e programas de planilhas.\n",
    "\n",
    "A estrutura de dados ``ndarray`` do ``NumPy`` fornece recursos essenciais para o tipo de dados limpos e bem organizados normalmente vistos em tarefas de computação numérica. Embora sirva a esse propósito muito bem, suas limitações tornam-se claras quando precisamos de mais flexibilidade (por exemplo, anexar rótulos a dados, trabalhar com dados ausentes, etc.) e ao tentar operações que não mapeiam bem a transmissão elementar (por exemplo, agrupamentos, pivôs, etc.), cada um dos quais é uma parte importante da análise dos dados menos estruturados disponíveis em muitas formas no mundo ao nosso redor. Os pandas, e em particular seus objetos ``Series`` e ``DataFrame``, se baseiam na estrutura do array ``NumPy`` e fornecem acesso eficiente a esses tipos de tarefas de \"coleta de dados\" que ocupam muito do tempo de um cientista de dados."
   ]
  },
  {
   "cell_type": "markdown",
   "metadata": {},
   "source": [
    "## Instalando o Pandas"
   ]
  },
  {
   "cell_type": "markdown",
   "metadata": {},
   "source": [
    "A instalação de Pandas no seu sistema requer que o NumPy seja instalado e, se você construir a biblioteca a partir do código-fonte, requer as ferramentas apropriadas para compilar as fontes C e Cython nas quais o Pandas é construído.\n",
    "\n",
    "Detalhes sobre a instalção podem ser encontradas em  [Preface](00.00-Preface.ipynb) e o Pandas por padrão vem instalado junto com o Anaconda.\n",
    "\n",
    "Depois que o Pandas estiver instalado, você poderá importá-lo e verificar a versão:"
   ]
  },
  {
   "cell_type": "code",
   "execution_count": 1,
   "metadata": {},
   "outputs": [
    {
     "data": {
      "text/plain": [
       "'0.24.2'"
      ]
     },
     "execution_count": 1,
     "metadata": {},
     "output_type": "execute_result"
    }
   ],
   "source": [
    "import pandas\n",
    "pandas.__version__"
   ]
  },
  {
   "cell_type": "markdown",
   "metadata": {},
   "source": [
    "Nós importamos os Pandas com a convenção pd:"
   ]
  },
  {
   "cell_type": "code",
   "execution_count": 2,
   "metadata": {},
   "outputs": [],
   "source": [
    "import pandas as pd"
   ]
  },
  {
   "cell_type": "markdown",
   "metadata": {},
   "source": [
    "## Lembrete Sobre a Documentação"
   ]
  },
  {
   "cell_type": "markdown",
   "metadata": {},
   "source": [
    "Não se esqueça de que o IPython oferece a capacidade de explorar rapidamente o conteúdo de um pacote (usando o recurso de conclusão de guias), bem como a documentação de várias funções (usando o caractere?). (Consulte a Ajuda e Documentação no IPython se precisar de uma atualização sobre isso.)\n",
    "\n",
    "Por exemplo, para exibir todo o conteúdo do namespace pandas, você pode digitar\n",
    "```ipython\n",
    "In [3]: pd. <TAB>\n",
    "```    \n",
    "\n",
    "E para exibir a documentação integrada do Pandas, você pode usar isto:\n",
    "\n",
    "```ipython\n",
    "In [4]: pd?\n",
    "```\n",
    "    \n",
    "Documentação mais detalhada, juntamente com tutoriais e outros recursos, pode ser encontrada em http://pandas.pydata.org/."
   ]
  }
 ],
 "metadata": {
  "kernelspec": {
   "display_name": "Python 3",
   "language": "python",
   "name": "python3"
  },
  "language_info": {
   "codemirror_mode": {
    "name": "ipython",
    "version": 3
   },
   "file_extension": ".py",
   "mimetype": "text/x-python",
   "name": "python",
   "nbconvert_exporter": "python",
   "pygments_lexer": "ipython3",
   "version": "3.6.0"
  }
 },
 "nbformat": 4,
 "nbformat_minor": 2
}
