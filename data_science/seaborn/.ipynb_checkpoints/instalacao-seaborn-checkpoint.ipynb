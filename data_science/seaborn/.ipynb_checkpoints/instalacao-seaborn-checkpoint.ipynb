{
 "cells": [
  {
   "cell_type": "markdown",
   "metadata": {},
   "source": [
    "# Seaborn"
   ]
  },
  {
   "cell_type": "markdown",
   "metadata": {},
   "source": [
    "Seaborn é uma biblioteca de visualização de dados Python baseado no [``Matplotlib``](https://matplotlib.org/). Ele fornece uma interface de alto nível para desenhar gráficos estatísticos atraentes e informativos. "
   ]
  },
  {
   "cell_type": "markdown",
   "metadata": {},
   "source": [
    "## Instalação "
   ]
  },
  {
   "cell_type": "markdown",
   "metadata": {},
   "source": [
    "Para instalar a última versão do seaborn, você pode usar ``pip``:"
   ]
  },
  {
   "cell_type": "markdown",
   "metadata": {},
   "source": [
    "``pip install seaborn``"
   ]
  },
  {
   "cell_type": "markdown",
   "metadata": {},
   "source": [
    "Também é possível instalar a versão lançada usando ``conda``:"
   ]
  },
  {
   "cell_type": "markdown",
   "metadata": {},
   "source": [
    "``conda install seaborn``"
   ]
  },
  {
   "cell_type": "markdown",
   "metadata": {},
   "source": [
    "Alternativamente, você pode usar ``pip`` para instalar a versão de desenvolvimento diretamente do ``github``:"
   ]
  },
  {
   "cell_type": "markdown",
   "metadata": {},
   "source": [
    "``pip install git+https://github.com/mwaskom/seaborn.git``"
   ]
  },
  {
   "cell_type": "markdown",
   "metadata": {},
   "source": [
    "Outra opção seria clonar o repositório do github e instalar a partir da sua cópia local:"
   ]
  },
  {
   "cell_type": "markdown",
   "metadata": {},
   "source": [
    "### Dependências\n",
    "- Python 2.7 ou 3.5+\n",
    "- [Numpy](https://www.numpy.org/) (> = 1.9.3)\n",
    "- [SciPy](https://www.scipy.org/) (> = 0.14.0)\n",
    "- [Matplotlib](https://matplotlib.org/) (> = 1.4.3)\n",
    "- [Pandas](https://pandas.pydata.org/) (> = 0.15.2)\n"
   ]
  }
 ],
 "metadata": {
  "kernelspec": {
   "display_name": "Python 3",
   "language": "python",
   "name": "python3"
  },
  "language_info": {
   "codemirror_mode": {
    "name": "ipython",
    "version": 3
   },
   "file_extension": ".py",
   "mimetype": "text/x-python",
   "name": "python",
   "nbconvert_exporter": "python",
   "pygments_lexer": "ipython3",
   "version": "3.7.3"
  }
 },
 "nbformat": 4,
 "nbformat_minor": 2
}
